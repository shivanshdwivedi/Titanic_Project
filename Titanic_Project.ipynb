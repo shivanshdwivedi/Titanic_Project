{
 "cells": [
  {
   "cell_type": "code",
   "execution_count": 50,
   "metadata": {},
   "outputs": [
    {
     "data": {
      "text/html": [
       "        <script type=\"text/javascript\">\n",
       "        window.PlotlyConfig = {MathJaxConfig: 'local'};\n",
       "        if (window.MathJax) {MathJax.Hub.Config({SVG: {font: \"STIX-Web\"}});}\n",
       "        if (typeof require !== 'undefined') {\n",
       "        require.undef(\"plotly\");\n",
       "        requirejs.config({\n",
       "            paths: {\n",
       "                'plotly': ['https://cdn.plot.ly/plotly-latest.min']\n",
       "            }\n",
       "        });\n",
       "        require(['plotly'], function(Plotly) {\n",
       "            window._Plotly = Plotly;\n",
       "        });\n",
       "        }\n",
       "        </script>\n",
       "        "
      ]
     },
     "metadata": {},
     "output_type": "display_data"
    }
   ],
   "source": [
    "import pandas as pd\n",
    "import numpy as np\n",
    "import seaborn as sns\n",
    "import matplotlib.pyplot as plt\n",
    "%matplotlib inline\n",
    "from sklearn.linear_model import LogisticRegression\n",
    "from sklearn.svm import SVC\n",
    "from sklearn.ensemble import RandomForestClassifier\n",
    "import plotly.offline as py\n",
    "py.init_notebook_mode(connected=True)\n",
    "import plotly.graph_objs as go\n",
    "import plotly.tools as tls\n",
    "from sklearn.metrics import confusion_matrix\n",
    "from sklearn.metrics import plot_confusion_matrix"
   ]
  },
  {
   "cell_type": "code",
   "execution_count": 51,
   "metadata": {},
   "outputs": [
    {
     "data": {
      "text/html": [
       "<div>\n",
       "<style scoped>\n",
       "    .dataframe tbody tr th:only-of-type {\n",
       "        vertical-align: middle;\n",
       "    }\n",
       "\n",
       "    .dataframe tbody tr th {\n",
       "        vertical-align: top;\n",
       "    }\n",
       "\n",
       "    .dataframe thead th {\n",
       "        text-align: right;\n",
       "    }\n",
       "</style>\n",
       "<table border=\"1\" class=\"dataframe\">\n",
       "  <thead>\n",
       "    <tr style=\"text-align: right;\">\n",
       "      <th></th>\n",
       "      <th>PassengerId</th>\n",
       "      <th>Survived</th>\n",
       "      <th>Pclass</th>\n",
       "      <th>Name</th>\n",
       "      <th>Sex</th>\n",
       "      <th>Age</th>\n",
       "      <th>SibSp</th>\n",
       "      <th>Parch</th>\n",
       "      <th>Ticket</th>\n",
       "      <th>Fare</th>\n",
       "      <th>Cabin</th>\n",
       "      <th>Embarked</th>\n",
       "    </tr>\n",
       "  </thead>\n",
       "  <tbody>\n",
       "    <tr>\n",
       "      <th>0</th>\n",
       "      <td>1</td>\n",
       "      <td>0</td>\n",
       "      <td>3</td>\n",
       "      <td>Braund, Mr. Owen Harris</td>\n",
       "      <td>male</td>\n",
       "      <td>22.0</td>\n",
       "      <td>1</td>\n",
       "      <td>0</td>\n",
       "      <td>A/5 21171</td>\n",
       "      <td>7.2500</td>\n",
       "      <td>NaN</td>\n",
       "      <td>S</td>\n",
       "    </tr>\n",
       "    <tr>\n",
       "      <th>1</th>\n",
       "      <td>2</td>\n",
       "      <td>1</td>\n",
       "      <td>1</td>\n",
       "      <td>Cumings, Mrs. John Bradley (Florence Briggs Th...</td>\n",
       "      <td>female</td>\n",
       "      <td>38.0</td>\n",
       "      <td>1</td>\n",
       "      <td>0</td>\n",
       "      <td>PC 17599</td>\n",
       "      <td>71.2833</td>\n",
       "      <td>C85</td>\n",
       "      <td>C</td>\n",
       "    </tr>\n",
       "    <tr>\n",
       "      <th>2</th>\n",
       "      <td>3</td>\n",
       "      <td>1</td>\n",
       "      <td>3</td>\n",
       "      <td>Heikkinen, Miss. Laina</td>\n",
       "      <td>female</td>\n",
       "      <td>26.0</td>\n",
       "      <td>0</td>\n",
       "      <td>0</td>\n",
       "      <td>STON/O2. 3101282</td>\n",
       "      <td>7.9250</td>\n",
       "      <td>NaN</td>\n",
       "      <td>S</td>\n",
       "    </tr>\n",
       "    <tr>\n",
       "      <th>3</th>\n",
       "      <td>4</td>\n",
       "      <td>1</td>\n",
       "      <td>1</td>\n",
       "      <td>Futrelle, Mrs. Jacques Heath (Lily May Peel)</td>\n",
       "      <td>female</td>\n",
       "      <td>35.0</td>\n",
       "      <td>1</td>\n",
       "      <td>0</td>\n",
       "      <td>113803</td>\n",
       "      <td>53.1000</td>\n",
       "      <td>C123</td>\n",
       "      <td>S</td>\n",
       "    </tr>\n",
       "  </tbody>\n",
       "</table>\n",
       "</div>"
      ],
      "text/plain": [
       "   PassengerId  Survived  Pclass  \\\n",
       "0            1         0       3   \n",
       "1            2         1       1   \n",
       "2            3         1       3   \n",
       "3            4         1       1   \n",
       "\n",
       "                                                Name     Sex   Age  SibSp  \\\n",
       "0                            Braund, Mr. Owen Harris    male  22.0      1   \n",
       "1  Cumings, Mrs. John Bradley (Florence Briggs Th...  female  38.0      1   \n",
       "2                             Heikkinen, Miss. Laina  female  26.0      0   \n",
       "3       Futrelle, Mrs. Jacques Heath (Lily May Peel)  female  35.0      1   \n",
       "\n",
       "   Parch            Ticket     Fare Cabin Embarked  \n",
       "0      0         A/5 21171   7.2500   NaN        S  \n",
       "1      0          PC 17599  71.2833   C85        C  \n",
       "2      0  STON/O2. 3101282   7.9250   NaN        S  \n",
       "3      0            113803  53.1000  C123        S  "
      ]
     },
     "execution_count": 51,
     "metadata": {},
     "output_type": "execute_result"
    }
   ],
   "source": [
    "dataset = pd.read_csv('./train.csv')\n",
    "dataset.head(4)"
   ]
  },
  {
   "cell_type": "code",
   "execution_count": 52,
   "metadata": {},
   "outputs": [
    {
     "data": {
      "text/plain": [
       "PassengerId      int64\n",
       "Survived         int64\n",
       "Pclass           int64\n",
       "Name            object\n",
       "Sex             object\n",
       "Age            float64\n",
       "SibSp            int64\n",
       "Parch            int64\n",
       "Ticket          object\n",
       "Fare           float64\n",
       "Cabin           object\n",
       "Embarked        object\n",
       "dtype: object"
      ]
     },
     "execution_count": 52,
     "metadata": {},
     "output_type": "execute_result"
    }
   ],
   "source": [
    "dataset.dtypes"
   ]
  },
  {
   "cell_type": "code",
   "execution_count": 53,
   "metadata": {},
   "outputs": [
    {
     "data": {
      "text/html": [
       "<div>\n",
       "<style scoped>\n",
       "    .dataframe tbody tr th:only-of-type {\n",
       "        vertical-align: middle;\n",
       "    }\n",
       "\n",
       "    .dataframe tbody tr th {\n",
       "        vertical-align: top;\n",
       "    }\n",
       "\n",
       "    .dataframe thead th {\n",
       "        text-align: right;\n",
       "    }\n",
       "</style>\n",
       "<table border=\"1\" class=\"dataframe\">\n",
       "  <thead>\n",
       "    <tr style=\"text-align: right;\">\n",
       "      <th></th>\n",
       "      <th>PassengerId</th>\n",
       "      <th>Survived</th>\n",
       "      <th>Pclass</th>\n",
       "      <th>Age</th>\n",
       "      <th>SibSp</th>\n",
       "      <th>Parch</th>\n",
       "      <th>Fare</th>\n",
       "    </tr>\n",
       "  </thead>\n",
       "  <tbody>\n",
       "    <tr>\n",
       "      <th>count</th>\n",
       "      <td>891.000000</td>\n",
       "      <td>891.000000</td>\n",
       "      <td>891.000000</td>\n",
       "      <td>714.000000</td>\n",
       "      <td>891.000000</td>\n",
       "      <td>891.000000</td>\n",
       "      <td>891.000000</td>\n",
       "    </tr>\n",
       "    <tr>\n",
       "      <th>mean</th>\n",
       "      <td>446.000000</td>\n",
       "      <td>0.383838</td>\n",
       "      <td>2.308642</td>\n",
       "      <td>29.699118</td>\n",
       "      <td>0.523008</td>\n",
       "      <td>0.381594</td>\n",
       "      <td>32.204208</td>\n",
       "    </tr>\n",
       "    <tr>\n",
       "      <th>std</th>\n",
       "      <td>257.353842</td>\n",
       "      <td>0.486592</td>\n",
       "      <td>0.836071</td>\n",
       "      <td>14.526497</td>\n",
       "      <td>1.102743</td>\n",
       "      <td>0.806057</td>\n",
       "      <td>49.693429</td>\n",
       "    </tr>\n",
       "    <tr>\n",
       "      <th>min</th>\n",
       "      <td>1.000000</td>\n",
       "      <td>0.000000</td>\n",
       "      <td>1.000000</td>\n",
       "      <td>0.420000</td>\n",
       "      <td>0.000000</td>\n",
       "      <td>0.000000</td>\n",
       "      <td>0.000000</td>\n",
       "    </tr>\n",
       "    <tr>\n",
       "      <th>25%</th>\n",
       "      <td>223.500000</td>\n",
       "      <td>0.000000</td>\n",
       "      <td>2.000000</td>\n",
       "      <td>20.125000</td>\n",
       "      <td>0.000000</td>\n",
       "      <td>0.000000</td>\n",
       "      <td>7.910400</td>\n",
       "    </tr>\n",
       "    <tr>\n",
       "      <th>50%</th>\n",
       "      <td>446.000000</td>\n",
       "      <td>0.000000</td>\n",
       "      <td>3.000000</td>\n",
       "      <td>28.000000</td>\n",
       "      <td>0.000000</td>\n",
       "      <td>0.000000</td>\n",
       "      <td>14.454200</td>\n",
       "    </tr>\n",
       "    <tr>\n",
       "      <th>75%</th>\n",
       "      <td>668.500000</td>\n",
       "      <td>1.000000</td>\n",
       "      <td>3.000000</td>\n",
       "      <td>38.000000</td>\n",
       "      <td>1.000000</td>\n",
       "      <td>0.000000</td>\n",
       "      <td>31.000000</td>\n",
       "    </tr>\n",
       "    <tr>\n",
       "      <th>max</th>\n",
       "      <td>891.000000</td>\n",
       "      <td>1.000000</td>\n",
       "      <td>3.000000</td>\n",
       "      <td>80.000000</td>\n",
       "      <td>8.000000</td>\n",
       "      <td>6.000000</td>\n",
       "      <td>512.329200</td>\n",
       "    </tr>\n",
       "  </tbody>\n",
       "</table>\n",
       "</div>"
      ],
      "text/plain": [
       "       PassengerId    Survived      Pclass         Age       SibSp  \\\n",
       "count   891.000000  891.000000  891.000000  714.000000  891.000000   \n",
       "mean    446.000000    0.383838    2.308642   29.699118    0.523008   \n",
       "std     257.353842    0.486592    0.836071   14.526497    1.102743   \n",
       "min       1.000000    0.000000    1.000000    0.420000    0.000000   \n",
       "25%     223.500000    0.000000    2.000000   20.125000    0.000000   \n",
       "50%     446.000000    0.000000    3.000000   28.000000    0.000000   \n",
       "75%     668.500000    1.000000    3.000000   38.000000    1.000000   \n",
       "max     891.000000    1.000000    3.000000   80.000000    8.000000   \n",
       "\n",
       "            Parch        Fare  \n",
       "count  891.000000  891.000000  \n",
       "mean     0.381594   32.204208  \n",
       "std      0.806057   49.693429  \n",
       "min      0.000000    0.000000  \n",
       "25%      0.000000    7.910400  \n",
       "50%      0.000000   14.454200  \n",
       "75%      0.000000   31.000000  \n",
       "max      6.000000  512.329200  "
      ]
     },
     "execution_count": 53,
     "metadata": {},
     "output_type": "execute_result"
    }
   ],
   "source": [
    "dataset.describe()"
   ]
  },
  {
   "cell_type": "code",
   "execution_count": 54,
   "metadata": {},
   "outputs": [
    {
     "data": {
      "text/html": [
       "<div>\n",
       "<style scoped>\n",
       "    .dataframe tbody tr th:only-of-type {\n",
       "        vertical-align: middle;\n",
       "    }\n",
       "\n",
       "    .dataframe tbody tr th {\n",
       "        vertical-align: top;\n",
       "    }\n",
       "\n",
       "    .dataframe thead th {\n",
       "        text-align: right;\n",
       "    }\n",
       "</style>\n",
       "<table border=\"1\" class=\"dataframe\">\n",
       "  <thead>\n",
       "    <tr style=\"text-align: right;\">\n",
       "      <th></th>\n",
       "      <th>Sex</th>\n",
       "      <th>Survived</th>\n",
       "    </tr>\n",
       "  </thead>\n",
       "  <tbody>\n",
       "    <tr>\n",
       "      <th>0</th>\n",
       "      <td>female</td>\n",
       "      <td>0.742038</td>\n",
       "    </tr>\n",
       "    <tr>\n",
       "      <th>1</th>\n",
       "      <td>male</td>\n",
       "      <td>0.188908</td>\n",
       "    </tr>\n",
       "  </tbody>\n",
       "</table>\n",
       "</div>"
      ],
      "text/plain": [
       "      Sex  Survived\n",
       "0  female  0.742038\n",
       "1    male  0.188908"
      ]
     },
     "execution_count": 54,
     "metadata": {},
     "output_type": "execute_result"
    }
   ],
   "source": [
    "dataset[['Sex','Survived']].groupby('Sex',as_index=False).mean()"
   ]
  },
  {
   "cell_type": "code",
   "execution_count": 55,
   "metadata": {},
   "outputs": [
    {
     "data": {
      "text/plain": [
       "<seaborn.axisgrid.FacetGrid at 0x173c7a57ac8>"
      ]
     },
     "execution_count": 55,
     "metadata": {},
     "output_type": "execute_result"
    },
    {
     "data": {
      "image/png": "[encoded data removed]",
      "text/plain": [
       "<Figure size 432x216 with 2 Axes>"
      ]
     },
     "metadata": {
      "needs_background": "light"
     },
     "output_type": "display_data"
    }
   ],
   "source": [
    "g = sns.FacetGrid(dataset, col='Survived')\n",
    "g.map(plt.hist, 'Age', bins=20)"
   ]
  },
  {
   "cell_type": "code",
   "execution_count": 56,
   "metadata": {},
   "outputs": [
    {
     "data": {
      "text/html": [
       "<div>\n",
       "<style scoped>\n",
       "    .dataframe tbody tr th:only-of-type {\n",
       "        vertical-align: middle;\n",
       "    }\n",
       "\n",
       "    .dataframe tbody tr th {\n",
       "        vertical-align: top;\n",
       "    }\n",
       "\n",
       "    .dataframe thead th {\n",
       "        text-align: right;\n",
       "    }\n",
       "</style>\n",
       "<table border=\"1\" class=\"dataframe\">\n",
       "  <thead>\n",
       "    <tr style=\"text-align: right;\">\n",
       "      <th></th>\n",
       "      <th>Pclass</th>\n",
       "      <th>Survived</th>\n",
       "    </tr>\n",
       "  </thead>\n",
       "  <tbody>\n",
       "    <tr>\n",
       "      <th>0</th>\n",
       "      <td>1</td>\n",
       "      <td>0.629630</td>\n",
       "    </tr>\n",
       "    <tr>\n",
       "      <th>1</th>\n",
       "      <td>2</td>\n",
       "      <td>0.472826</td>\n",
       "    </tr>\n",
       "    <tr>\n",
       "      <th>2</th>\n",
       "      <td>3</td>\n",
       "      <td>0.242363</td>\n",
       "    </tr>\n",
       "  </tbody>\n",
       "</table>\n",
       "</div>"
      ],
      "text/plain": [
       "   Pclass  Survived\n",
       "0       1  0.629630\n",
       "1       2  0.472826\n",
       "2       3  0.242363"
      ]
     },
     "execution_count": 56,
     "metadata": {},
     "output_type": "execute_result"
    }
   ],
   "source": [
    "dataset[['Pclass','Survived']].groupby('Pclass',as_index=False).mean()"
   ]
  },
  {
   "cell_type": "code",
   "execution_count": 57,
   "metadata": {},
   "outputs": [
    {
     "data": {
      "text/html": [
       "<div>\n",
       "<style scoped>\n",
       "    .dataframe tbody tr th:only-of-type {\n",
       "        vertical-align: middle;\n",
       "    }\n",
       "\n",
       "    .dataframe tbody tr th {\n",
       "        vertical-align: top;\n",
       "    }\n",
       "\n",
       "    .dataframe thead th {\n",
       "        text-align: right;\n",
       "    }\n",
       "</style>\n",
       "<table border=\"1\" class=\"dataframe\">\n",
       "  <thead>\n",
       "    <tr style=\"text-align: right;\">\n",
       "      <th></th>\n",
       "      <th>SibSp</th>\n",
       "      <th>Survived</th>\n",
       "    </tr>\n",
       "  </thead>\n",
       "  <tbody>\n",
       "    <tr>\n",
       "      <th>0</th>\n",
       "      <td>0</td>\n",
       "      <td>0.345395</td>\n",
       "    </tr>\n",
       "    <tr>\n",
       "      <th>1</th>\n",
       "      <td>1</td>\n",
       "      <td>0.535885</td>\n",
       "    </tr>\n",
       "    <tr>\n",
       "      <th>2</th>\n",
       "      <td>2</td>\n",
       "      <td>0.464286</td>\n",
       "    </tr>\n",
       "    <tr>\n",
       "      <th>3</th>\n",
       "      <td>3</td>\n",
       "      <td>0.250000</td>\n",
       "    </tr>\n",
       "    <tr>\n",
       "      <th>4</th>\n",
       "      <td>4</td>\n",
       "      <td>0.166667</td>\n",
       "    </tr>\n",
       "    <tr>\n",
       "      <th>5</th>\n",
       "      <td>5</td>\n",
       "      <td>0.000000</td>\n",
       "    </tr>\n",
       "    <tr>\n",
       "      <th>6</th>\n",
       "      <td>8</td>\n",
       "      <td>0.000000</td>\n",
       "    </tr>\n",
       "  </tbody>\n",
       "</table>\n",
       "</div>"
      ],
      "text/plain": [
       "   SibSp  Survived\n",
       "0      0  0.345395\n",
       "1      1  0.535885\n",
       "2      2  0.464286\n",
       "3      3  0.250000\n",
       "4      4  0.166667\n",
       "5      5  0.000000\n",
       "6      8  0.000000"
      ]
     },
     "execution_count": 57,
     "metadata": {},
     "output_type": "execute_result"
    }
   ],
   "source": [
    "dataset[['SibSp' , 'Survived']].groupby('SibSp' , as_index = False).mean()"
   ]
  },
  {
   "cell_type": "code",
   "execution_count": 58,
   "metadata": {},
   "outputs": [
    {
     "data": {
      "text/plain": [
       "array([0, 1, 2, 5, 3, 4, 6], dtype=int64)"
      ]
     },
     "execution_count": 58,
     "metadata": {},
     "output_type": "execute_result"
    }
   ],
   "source": [
    "dataset.Parch.unique()"
   ]
  },
  {
   "cell_type": "code",
   "execution_count": 59,
   "metadata": {},
   "outputs": [
    {
     "data": {
      "text/html": [
       "<div>\n",
       "<style scoped>\n",
       "    .dataframe tbody tr th:only-of-type {\n",
       "        vertical-align: middle;\n",
       "    }\n",
       "\n",
       "    .dataframe tbody tr th {\n",
       "        vertical-align: top;\n",
       "    }\n",
       "\n",
       "    .dataframe thead th {\n",
       "        text-align: right;\n",
       "    }\n",
       "</style>\n",
       "<table border=\"1\" class=\"dataframe\">\n",
       "  <thead>\n",
       "    <tr style=\"text-align: right;\">\n",
       "      <th></th>\n",
       "      <th>Parch</th>\n",
       "      <th>Survived</th>\n",
       "    </tr>\n",
       "  </thead>\n",
       "  <tbody>\n",
       "    <tr>\n",
       "      <th>0</th>\n",
       "      <td>0</td>\n",
       "      <td>0.343658</td>\n",
       "    </tr>\n",
       "    <tr>\n",
       "      <th>1</th>\n",
       "      <td>1</td>\n",
       "      <td>0.550847</td>\n",
       "    </tr>\n",
       "    <tr>\n",
       "      <th>2</th>\n",
       "      <td>2</td>\n",
       "      <td>0.500000</td>\n",
       "    </tr>\n",
       "    <tr>\n",
       "      <th>3</th>\n",
       "      <td>3</td>\n",
       "      <td>0.600000</td>\n",
       "    </tr>\n",
       "    <tr>\n",
       "      <th>4</th>\n",
       "      <td>4</td>\n",
       "      <td>0.000000</td>\n",
       "    </tr>\n",
       "    <tr>\n",
       "      <th>5</th>\n",
       "      <td>5</td>\n",
       "      <td>0.200000</td>\n",
       "    </tr>\n",
       "    <tr>\n",
       "      <th>6</th>\n",
       "      <td>6</td>\n",
       "      <td>0.000000</td>\n",
       "    </tr>\n",
       "  </tbody>\n",
       "</table>\n",
       "</div>"
      ],
      "text/plain": [
       "   Parch  Survived\n",
       "0      0  0.343658\n",
       "1      1  0.550847\n",
       "2      2  0.500000\n",
       "3      3  0.600000\n",
       "4      4  0.000000\n",
       "5      5  0.200000\n",
       "6      6  0.000000"
      ]
     },
     "execution_count": 59,
     "metadata": {},
     "output_type": "execute_result"
    }
   ],
   "source": [
    "dataset[['Parch' , 'Survived']].groupby('Parch' , as_index = False).mean()"
   ]
  },
  {
   "cell_type": "code",
   "execution_count": 60,
   "metadata": {},
   "outputs": [
    {
     "data": {
      "text/plain": [
       "array(['S', 'C', 'Q', nan], dtype=object)"
      ]
     },
     "execution_count": 60,
     "metadata": {},
     "output_type": "execute_result"
    }
   ],
   "source": [
    "dataset.Embarked.unique()"
   ]
  },
  {
   "cell_type": "code",
   "execution_count": 61,
   "metadata": {},
   "outputs": [
    {
     "data": {
      "text/html": [
       "<div>\n",
       "<style scoped>\n",
       "    .dataframe tbody tr th:only-of-type {\n",
       "        vertical-align: middle;\n",
       "    }\n",
       "\n",
       "    .dataframe tbody tr th {\n",
       "        vertical-align: top;\n",
       "    }\n",
       "\n",
       "    .dataframe thead th {\n",
       "        text-align: right;\n",
       "    }\n",
       "</style>\n",
       "<table border=\"1\" class=\"dataframe\">\n",
       "  <thead>\n",
       "    <tr style=\"text-align: right;\">\n",
       "      <th></th>\n",
       "      <th>Embarked</th>\n",
       "      <th>Survived</th>\n",
       "    </tr>\n",
       "  </thead>\n",
       "  <tbody>\n",
       "    <tr>\n",
       "      <th>0</th>\n",
       "      <td>C</td>\n",
       "      <td>0.553571</td>\n",
       "    </tr>\n",
       "    <tr>\n",
       "      <th>1</th>\n",
       "      <td>Q</td>\n",
       "      <td>0.389610</td>\n",
       "    </tr>\n",
       "    <tr>\n",
       "      <th>2</th>\n",
       "      <td>S</td>\n",
       "      <td>0.336957</td>\n",
       "    </tr>\n",
       "  </tbody>\n",
       "</table>\n",
       "</div>"
      ],
      "text/plain": [
       "  Embarked  Survived\n",
       "0        C  0.553571\n",
       "1        Q  0.389610\n",
       "2        S  0.336957"
      ]
     },
     "execution_count": 61,
     "metadata": {},
     "output_type": "execute_result"
    }
   ],
   "source": [
    "dataset[['Embarked' , 'Survived']].groupby('Embarked' , as_index = False).mean()"
   ]
  },
  {
   "cell_type": "code",
   "execution_count": 62,
   "metadata": {},
   "outputs": [
    {
     "name": "stderr",
     "output_type": "stream",
     "text": [
      "C:\\Users\\Dell\\anaconda3\\lib\\site-packages\\seaborn\\axisgrid.py:243: UserWarning:\n",
      "\n",
      "The `size` parameter has been renamed to `height`; please update your code.\n",
      "\n",
      "C:\\Users\\Dell\\anaconda3\\lib\\site-packages\\seaborn\\axisgrid.py:728: UserWarning:\n",
      "\n",
      "Using the barplot function without specifying `order` is likely to produce an incorrect plot.\n",
      "\n"
     ]
    },
    {
     "data": {
      "text/plain": [
       "<seaborn.axisgrid.FacetGrid at 0x173c71a5248>"
      ]
     },
     "execution_count": 62,
     "metadata": {},
     "output_type": "execute_result"
    },
    {
     "data": {
      "image/png": "[encoded data removed]",
      "text/plain": [
       "<Figure size 514.88x475.2 with 6 Axes>"
      ]
     },
     "metadata": {
      "needs_background": "light"
     },
     "output_type": "display_data"
    }
   ],
   "source": [
    "# grid = sns.FacetGrid(train_df, col='Embarked', hue='Survived', palette={0: 'k', 1: 'w'})\n",
    "grid = sns.FacetGrid(dataset, row='Embarked', col='Survived', size=2.2, aspect=1.6)\n",
    "grid.map(sns.barplot, 'Sex', 'Fare', alpha=.5, ci=None)\n",
    "grid.add_legend()"
   ]
  },
  {
   "cell_type": "code",
   "execution_count": 63,
   "metadata": {},
   "outputs": [
    {
     "data": {
      "text/plain": [
       "0    427\n",
       "1    217\n",
       "Name: Survived, dtype: int64"
      ]
     },
     "execution_count": 63,
     "metadata": {},
     "output_type": "execute_result"
    }
   ],
   "source": [
    "dataset[dataset.Embarked == 'S'].Survived.value_counts()"
   ]
  },
  {
   "cell_type": "code",
   "execution_count": 64,
   "metadata": {},
   "outputs": [
    {
     "data": {
      "text/html": [
       "<div>\n",
       "<style scoped>\n",
       "    .dataframe tbody tr th:only-of-type {\n",
       "        vertical-align: middle;\n",
       "    }\n",
       "\n",
       "    .dataframe tbody tr th {\n",
       "        vertical-align: top;\n",
       "    }\n",
       "\n",
       "    .dataframe thead th {\n",
       "        text-align: right;\n",
       "    }\n",
       "</style>\n",
       "<table border=\"1\" class=\"dataframe\">\n",
       "  <thead>\n",
       "    <tr style=\"text-align: right;\">\n",
       "      <th></th>\n",
       "      <th>Pclass</th>\n",
       "      <th>Sex</th>\n",
       "      <th>Age</th>\n",
       "      <th>Fare</th>\n",
       "      <th>Embarked</th>\n",
       "      <th>Survived</th>\n",
       "    </tr>\n",
       "  </thead>\n",
       "  <tbody>\n",
       "    <tr>\n",
       "      <th>0</th>\n",
       "      <td>3</td>\n",
       "      <td>male</td>\n",
       "      <td>22.0</td>\n",
       "      <td>7.2500</td>\n",
       "      <td>S</td>\n",
       "      <td>0</td>\n",
       "    </tr>\n",
       "    <tr>\n",
       "      <th>1</th>\n",
       "      <td>1</td>\n",
       "      <td>female</td>\n",
       "      <td>38.0</td>\n",
       "      <td>71.2833</td>\n",
       "      <td>C</td>\n",
       "      <td>1</td>\n",
       "    </tr>\n",
       "    <tr>\n",
       "      <th>2</th>\n",
       "      <td>3</td>\n",
       "      <td>female</td>\n",
       "      <td>26.0</td>\n",
       "      <td>7.9250</td>\n",
       "      <td>S</td>\n",
       "      <td>1</td>\n",
       "    </tr>\n",
       "    <tr>\n",
       "      <th>3</th>\n",
       "      <td>1</td>\n",
       "      <td>female</td>\n",
       "      <td>35.0</td>\n",
       "      <td>53.1000</td>\n",
       "      <td>S</td>\n",
       "      <td>1</td>\n",
       "    </tr>\n",
       "    <tr>\n",
       "      <th>4</th>\n",
       "      <td>3</td>\n",
       "      <td>male</td>\n",
       "      <td>35.0</td>\n",
       "      <td>8.0500</td>\n",
       "      <td>S</td>\n",
       "      <td>0</td>\n",
       "    </tr>\n",
       "  </tbody>\n",
       "</table>\n",
       "</div>"
      ],
      "text/plain": [
       "   Pclass     Sex   Age     Fare Embarked  Survived\n",
       "0       3    male  22.0   7.2500        S         0\n",
       "1       1  female  38.0  71.2833        C         1\n",
       "2       3  female  26.0   7.9250        S         1\n",
       "3       1  female  35.0  53.1000        S         1\n",
       "4       3    male  35.0   8.0500        S         0"
      ]
     },
     "execution_count": 64,
     "metadata": {},
     "output_type": "execute_result"
    }
   ],
   "source": [
    "df = dataset[['Pclass','Sex','Age','Fare','Embarked','Survived']]\n",
    "df.head()"
   ]
  },
  {
   "cell_type": "markdown",
   "metadata": {},
   "source": [
    "# Missing Values Imputation"
   ]
  },
  {
   "cell_type": "markdown",
   "metadata": {},
   "source": [
    "To identify which columns have empty values"
   ]
  },
  {
   "cell_type": "code",
   "execution_count": 65,
   "metadata": {},
   "outputs": [
    {
     "data": {
      "text/plain": [
       "Pclass        0\n",
       "Sex           0\n",
       "Age         177\n",
       "Fare          0\n",
       "Embarked      2\n",
       "Survived      0\n",
       "dtype: int64"
      ]
     },
     "execution_count": 65,
     "metadata": {},
     "output_type": "execute_result"
    }
   ],
   "source": [
    "df.isnull().sum()"
   ]
  },
  {
   "cell_type": "markdown",
   "metadata": {},
   "source": [
    "So Age , Embarked have empty value columns. So we will\n",
    "replace the empty values in Age with the mean age value\n",
    "and S value for empty embarked column values."
   ]
  },
  {
   "cell_type": "code",
   "execution_count": 66,
   "metadata": {},
   "outputs": [
    {
     "name": "stderr",
     "output_type": "stream",
     "text": [
      "C:\\Users\\Dell\\anaconda3\\lib\\site-packages\\pandas\\core\\generic.py:6245: SettingWithCopyWarning:\n",
      "\n",
      "\n",
      "A value is trying to be set on a copy of a slice from a DataFrame\n",
      "\n",
      "See the caveats in the documentation: https://pandas.pydata.org/pandas-docs/stable/user_guide/indexing.html#returning-a-view-versus-a-copy\n",
      "\n"
     ]
    }
   ],
   "source": [
    "df.fillna({'Age': df.Age.mean() ,\n",
    "          'Embarked': 'S'} , inplace = True)"
   ]
  },
  {
   "cell_type": "code",
   "execution_count": 67,
   "metadata": {},
   "outputs": [
    {
     "data": {
      "text/html": [
       "<div>\n",
       "<style scoped>\n",
       "    .dataframe tbody tr th:only-of-type {\n",
       "        vertical-align: middle;\n",
       "    }\n",
       "\n",
       "    .dataframe tbody tr th {\n",
       "        vertical-align: top;\n",
       "    }\n",
       "\n",
       "    .dataframe thead th {\n",
       "        text-align: right;\n",
       "    }\n",
       "</style>\n",
       "<table border=\"1\" class=\"dataframe\">\n",
       "  <thead>\n",
       "    <tr style=\"text-align: right;\">\n",
       "      <th></th>\n",
       "      <th>Pclass</th>\n",
       "      <th>Sex</th>\n",
       "      <th>Age</th>\n",
       "      <th>Fare</th>\n",
       "      <th>Embarked</th>\n",
       "      <th>Survived</th>\n",
       "    </tr>\n",
       "  </thead>\n",
       "  <tbody>\n",
       "    <tr>\n",
       "      <th>0</th>\n",
       "      <td>3</td>\n",
       "      <td>male</td>\n",
       "      <td>22.0</td>\n",
       "      <td>7.2500</td>\n",
       "      <td>S</td>\n",
       "      <td>0</td>\n",
       "    </tr>\n",
       "    <tr>\n",
       "      <th>1</th>\n",
       "      <td>1</td>\n",
       "      <td>female</td>\n",
       "      <td>38.0</td>\n",
       "      <td>71.2833</td>\n",
       "      <td>C</td>\n",
       "      <td>1</td>\n",
       "    </tr>\n",
       "    <tr>\n",
       "      <th>2</th>\n",
       "      <td>3</td>\n",
       "      <td>female</td>\n",
       "      <td>26.0</td>\n",
       "      <td>7.9250</td>\n",
       "      <td>S</td>\n",
       "      <td>1</td>\n",
       "    </tr>\n",
       "    <tr>\n",
       "      <th>3</th>\n",
       "      <td>1</td>\n",
       "      <td>female</td>\n",
       "      <td>35.0</td>\n",
       "      <td>53.1000</td>\n",
       "      <td>S</td>\n",
       "      <td>1</td>\n",
       "    </tr>\n",
       "    <tr>\n",
       "      <th>4</th>\n",
       "      <td>3</td>\n",
       "      <td>male</td>\n",
       "      <td>35.0</td>\n",
       "      <td>8.0500</td>\n",
       "      <td>S</td>\n",
       "      <td>0</td>\n",
       "    </tr>\n",
       "  </tbody>\n",
       "</table>\n",
       "</div>"
      ],
      "text/plain": [
       "   Pclass     Sex   Age     Fare Embarked  Survived\n",
       "0       3    male  22.0   7.2500        S         0\n",
       "1       1  female  38.0  71.2833        C         1\n",
       "2       3  female  26.0   7.9250        S         1\n",
       "3       1  female  35.0  53.1000        S         1\n",
       "4       3    male  35.0   8.0500        S         0"
      ]
     },
     "execution_count": 67,
     "metadata": {},
     "output_type": "execute_result"
    }
   ],
   "source": [
    "df.head()"
   ]
  },
  {
   "cell_type": "code",
   "execution_count": 68,
   "metadata": {},
   "outputs": [
    {
     "data": {
      "text/plain": [
       "Pclass      0\n",
       "Sex         0\n",
       "Age         0\n",
       "Fare        0\n",
       "Embarked    0\n",
       "Survived    0\n",
       "dtype: int64"
      ]
     },
     "execution_count": 68,
     "metadata": {},
     "output_type": "execute_result"
    }
   ],
   "source": [
    "df.isnull().sum()"
   ]
  },
  {
   "cell_type": "markdown",
   "metadata": {},
   "source": [
    "# ENCODING THE VALUES"
   ]
  },
  {
   "cell_type": "markdown",
   "metadata": {},
   "source": [
    "ONE HOT ENCODING"
   ]
  },
  {
   "cell_type": "code",
   "execution_count": 69,
   "metadata": {},
   "outputs": [
    {
     "name": "stdout",
     "output_type": "stream",
     "text": [
      "           Age     Fare  Survived  Sex_female  Sex_male  Embarked_C  \\\n",
      "0    22.000000   7.2500         0           0         1           0   \n",
      "1    38.000000  71.2833         1           1         0           1   \n",
      "2    26.000000   7.9250         1           1         0           0   \n",
      "3    35.000000  53.1000         1           1         0           0   \n",
      "4    35.000000   8.0500         0           0         1           0   \n",
      "..         ...      ...       ...         ...       ...         ...   \n",
      "886  27.000000  13.0000         0           0         1           0   \n",
      "887  19.000000  30.0000         1           1         0           0   \n",
      "888  29.699118  23.4500         0           1         0           0   \n",
      "889  26.000000  30.0000         1           0         1           1   \n",
      "890  32.000000   7.7500         0           0         1           0   \n",
      "\n",
      "     Embarked_Q  Embarked_S  Pclass_1  Pclass_2  Pclass_3  \n",
      "0             0           1         0         0         1  \n",
      "1             0           0         1         0         0  \n",
      "2             0           1         0         0         1  \n",
      "3             0           1         1         0         0  \n",
      "4             0           1         0         0         1  \n",
      "..          ...         ...       ...       ...       ...  \n",
      "886           0           1         0         1         0  \n",
      "887           0           1         1         0         0  \n",
      "888           0           1         0         0         1  \n",
      "889           0           0         1         0         0  \n",
      "890           1           0         0         0         1  \n",
      "\n",
      "[891 rows x 11 columns]\n"
     ]
    }
   ],
   "source": [
    "df = pd.get_dummies(df , columns=['Sex' , 'Embarked', 'Pclass'])\n",
    "print(df)"
   ]
  },
  {
   "cell_type": "code",
   "execution_count": 80,
   "metadata": {},
   "outputs": [
    {
     "name": "stdout",
     "output_type": "stream",
     "text": [
      "[[22.          7.25        0.         ...  0.          0.\n",
      "   1.        ]\n",
      " [38.         71.2833      1.         ...  1.          0.\n",
      "   0.        ]\n",
      " [26.          7.925       1.         ...  0.          0.\n",
      "   1.        ]\n",
      " ...\n",
      " [29.69911765 23.45        1.         ...  0.          0.\n",
      "   1.        ]\n",
      " [26.         30.          0.         ...  1.          0.\n",
      "   0.        ]\n",
      " [32.          7.75        0.         ...  0.          0.\n",
      "   1.        ]]\n",
      "[0 1 1 1 0 0 0 0 1 1 1 1 0 0 0 1 0 1 0 1 0 1 1 1 0 1 0 0 1 0 0 1 1 0 0 0 1\n",
      " 0 0 1 0 0 0 1 1 0 0 1 0 0 0 0 1 1 0 1 1 0 1 0 0 1 0 0 0 1 1 0 1 0 0 0 0 0\n",
      " 1 0 0 0 1 1 0 1 1 0 1 1 0 0 1 0 0 0 0 0 0 0 0 1 1 0 0 0 0 0 0 0 1 1 0 1 0\n",
      " 0 0 0 0 0 0 0 0 0 0 0 0 1 0 1 0 1 1 0 0 0 0 1 0 0 1 0 0 0 0 1 1 0 0 0 1 0\n",
      " 0 0 0 1 0 0 0 0 1 0 0 0 0 1 0 0 0 1 1 0 0 0 0 0 1 0 0 0 0 0 0 0 0 0 0 1 1\n",
      " 0 1 1 0 0 1 0 1 1 1 1 0 0 1 0 0 0 0 0 1 0 0 1 1 1 0 1 0 0 0 1 1 0 1 0 1 0\n",
      " 0 0 1 0 1 0 0 0 1 0 0 1 0 0 0 1 0 0 0 1 0 0 0 0 0 1 1 0 0 0 0 0 0 1 1 1 1\n",
      " 1 0 1 0 0 0 0 0 1 1 1 0 1 1 0 1 1 0 0 0 1 0 0 0 1 0 0 1 0 1 1 1 1 0 0 0 0\n",
      " 0 0 1 1 1 1 0 1 0 1 1 1 0 1 1 1 0 0 0 1 1 0 1 1 0 0 1 1 0 1 0 1 1 1 1 0 0\n",
      " 0 1 0 0 1 1 0 1 1 0 0 0 1 1 1 1 0 0 0 0 0 0 0 1 0 1 1 0 0 0 0 0 0 1 1 1 1\n",
      " 1 0 0 0 0 1 1 0 0 0 1 1 0 1 0 0 0 1 0 1 1 1 0 1 1 0 0 0 0 1 1 0 0 0 0 0 0\n",
      " 1 0 0 0 0 1 0 1 0 1 1 0 0 0 0 0 0 0 0 1 1 0 1 1 1 1 0 0 1 0 1 0 0 1 0 0 1\n",
      " 1 1 1 1 1 1 0 0 0 1 0 1 0 1 1 0 1 0 0 0 0 0 0 0 0 1 0 0 1 1 0 0 0 0 0 1 0\n",
      " 0 0 1 1 0 1 0 0 1 0 0 0 0 0 0 1 0 0 0 0 0 0 0 1 0 1 1 0 1 1 0 1 1 0 0 1 0\n",
      " 1 0 1 0 0 1 0 0 1 0 0 0 1 0 0 1 0 1 0 1 0 1 1 0 0 1 0 0 1 1 0 1 1 0 0 1 1\n",
      " 0 1 0 1 1 0 0 0 0 0 0 0 0 0 1 1 1 1 1 0 0 1 1 0 1 1 1 0 0 0 1 0 1 0 0 0 1\n",
      " 0 0 0 0 1 0 0 1 1 0 0 0 1 0 0 1 1 1 0 0 1 0 0 1 0 0 1 0 0 1 1 0 0 0 0 1 0\n",
      " 0 1 0 1 0 0 1 0 0 0 0 0 1 0 1 1 1 0 1 0 1 0 1 0 1 0 0 0 0 0 0 1 0 0 0 1 0\n",
      " 0 0 0 1 1 0 0 1 0 0 0 1 0 1 0 1 0 0 0 0 0 0 0 1 1 1 1 0 0 0 0 1 0 0 1 1 0\n",
      " 0 0 0 1 1 1 1 1 0 1 0 0 0 1 1 0 0 1 0 0 0 1 0 1 1 0 0 1 0 0 0 0 0 0 1 0 0\n",
      " 1 0 1 0 1 0 0 1 0 0 1 1 0 0 1 1 0 0 0 1 0 0 1 1 0 1 0 0 0 0 0 0 0 0 1 0 0\n",
      " 1 0 1 1 1 0 0 0 0 1 0 1 0 0 0 0 0 0 0 1 1 0 0 0 1 1 1 1 0 0 0 0 1 0 0 0 0\n",
      " 0 0 0 0 0 0 1 1 0 1 0 0 0 1 1 1 1 1 0 0 0 1 0 0 1 1 0 0 1 0 0 0 0 0 0 1 0\n",
      " 0 0 1 0 1 1 1 1 0 0 0 1 0 0 1 1 0 0 1 0 1 0 0 1 1 0 0 0 1 1 0 0 0 0 0 0 1\n",
      " 0 1 0]\n"
     ]
    }
   ],
   "source": [
    "X = df.drop(columns='Survived').values\n",
    "Y = df['Survived'].values\n",
    "print(X)\n",
    "print(Y)"
   ]
  },
  {
   "cell_type": "code",
   "execution_count": 81,
   "metadata": {},
   "outputs": [],
   "source": [
    "# X = X.reshape( -1 , 1)"
   ]
  },
  {
   "cell_type": "code",
   "execution_count": 82,
   "metadata": {},
   "outputs": [
    {
     "name": "stdout",
     "output_type": "stream",
     "text": [
      "[[ 29.69911765   7.8792       1.         ...   0.           0.\n",
      "    1.        ]\n",
      " [ 22.          66.6          1.         ...   1.           0.\n",
      "    0.        ]\n",
      " [ 29.69911765   7.2292       0.         ...   0.           0.\n",
      "    1.        ]\n",
      " ...\n",
      " [ 36.         512.3292       0.         ...   1.           0.\n",
      "    0.        ]\n",
      " [ 42.           7.55         0.         ...   0.           0.\n",
      "    1.        ]\n",
      " [ 16.           9.5          0.         ...   0.           0.\n",
      "    1.        ]]\n"
     ]
    }
   ],
   "source": [
    "from sklearn.model_selection import train_test_split\n",
    "X_train , X_test , Y_train , Y_test = train_test_split(X , Y , test_size = 0.2)\n",
    "print(X_train)"
   ]
  },
  {
   "cell_type": "code",
   "execution_count": 83,
   "metadata": {},
   "outputs": [
    {
     "name": "stdout",
     "output_type": "stream",
     "text": [
      "[[-0.01453157 -0.50336752  1.33871463 ... -0.5751879  -0.49692575\n",
      "   0.89839112]\n",
      " [-0.60782257  0.70086522  1.33871463 ...  1.7385623  -0.49692575\n",
      "  -1.11310094]\n",
      " [-0.01453157 -0.51669757 -0.74698519 ... -0.5751879  -0.49692575\n",
      "   0.89839112]\n",
      " ...\n",
      " [ 0.47101197  9.84177772 -0.74698519 ...  1.7385623  -0.49692575\n",
      "  -1.11310094]\n",
      " [ 0.93336963 -0.51011868 -0.74698519 ... -0.5751879  -0.49692575\n",
      "   0.89839112]\n",
      " [-1.07018024 -0.47012853 -0.74698519 ... -0.5751879  -0.49692575\n",
      "   0.89839112]]\n",
      "[[ 0.05753048 -0.42592238 -0.70118947 ... -0.52779866 -0.56229571\n",
      "   0.91943506]\n",
      " [-0.30288356 -0.10034803  1.42614807 ... -0.52779866  1.77842366\n",
      "  -1.0876244 ]\n",
      " [-0.30288356 -0.44357825 -0.70118947 ... -0.52779866 -0.56229571\n",
      "   0.91943506]\n",
      " ...\n",
      " [-1.37665891  0.2932603  -0.70118947 ... -0.52779866 -0.56229571\n",
      "   0.91943506]\n",
      " [ 0.05753048 -0.44428449  1.42614807 ... -0.52779866 -0.56229571\n",
      "   0.91943506]\n",
      " [-0.30288356 -0.10034803 -0.70118947 ... -0.52779866  1.77842366\n",
      "  -1.0876244 ]]\n"
     ]
    }
   ],
   "source": [
    "from sklearn.preprocessing import StandardScaler\n",
    "scale = StandardScaler()\n",
    "X_train = scale.fit_transform(X_train)\n",
    "X_test = scale.fit_transform(X_test)\n",
    "print(X_train)\n",
    "print(X_test)"
   ]
  },
  {
   "cell_type": "code",
   "execution_count": 84,
   "metadata": {},
   "outputs": [],
   "source": [
    "import tensorflow as tf"
   ]
  },
  {
   "cell_type": "code",
   "execution_count": 85,
   "metadata": {},
   "outputs": [],
   "source": [
    "from tensorflow.keras.models import Sequential\n",
    "from tensorflow.keras.layers import Dense"
   ]
  },
  {
   "cell_type": "code",
   "execution_count": 86,
   "metadata": {},
   "outputs": [],
   "source": [
    "classifier = Sequential([\n",
    "#     Relu functions give an integer value for a positive value and 0 for a negative value\n",
    "    Dense(units = 128 , activation = 'relu'),\n",
    "    Dense(units = 64 , activation = 'relu'),\n",
    "    Dense(units = 32 , activation = 'relu'),\n",
    "    Dense(units = 8 , activation = 'relu'),\n",
    "    Dense(units = 4 , activation = 'relu'),\n",
    "    Dense(units = 2 , activation = 'relu'),\n",
    "    Dense(units = 1 , activation = 'sigmoid')\n",
    "])\n",
    "classifier.compile(optimizer = 'rmsprop' , loss = 'binary_crossentropy' , metrics = [\"accuracy\"])"
   ]
  },
  {
   "cell_type": "code",
   "execution_count": 87,
   "metadata": {},
   "outputs": [],
   "source": [
    "from keras.callbacks import EarlyStopping , ModelCheckpoint\n",
    "early_stopping_monitor = EarlyStopping(monitor='val_loss', patience=15, verbose=1, mode='auto')\n",
    "# checkpointer = ModelCheckpoint(filepath = fname_saveWeights, verbose=1, save_best_only=True)"
   ]
  },
  {
   "cell_type": "code",
   "execution_count": 88,
   "metadata": {},
   "outputs": [
    {
     "name": "stdout",
     "output_type": "stream",
     "text": [
      "Epoch 1/300\n",
      "712/712 - 0s - loss: 0.6350 - acc: 0.6236\n",
      "Epoch 2/300\n",
      "712/712 - 0s - loss: 0.5381 - acc: 0.6236\n",
      "Epoch 3/300\n",
      "712/712 - 0s - loss: 0.5234 - acc: 0.7598\n"
     ]
    },
    {
     "name": "stderr",
     "output_type": "stream",
     "text": [
      "C:\\Users\\Dell\\anaconda3\\lib\\site-packages\\keras\\callbacks\\callbacks.py:846: RuntimeWarning:\n",
      "\n",
      "Early stopping conditioned on metric `val_loss` which is not available. Available metrics are: loss,acc\n",
      "\n"
     ]
    },
    {
     "name": "stdout",
     "output_type": "stream",
     "text": [
      "Epoch 4/300\n",
      "712/712 - 0s - loss: 0.5161 - acc: 0.8048\n",
      "Epoch 5/300\n",
      "712/712 - 0s - loss: 0.5107 - acc: 0.8174\n",
      "Epoch 6/300\n",
      "712/712 - 0s - loss: 0.5062 - acc: 0.8132\n",
      "Epoch 7/300\n",
      "712/712 - 0s - loss: 0.5017 - acc: 0.8188\n",
      "Epoch 8/300\n",
      "712/712 - 0s - loss: 0.4969 - acc: 0.8188\n",
      "Epoch 9/300\n",
      "712/712 - 0s - loss: 0.4956 - acc: 0.8174\n",
      "Epoch 10/300\n",
      "712/712 - 0s - loss: 0.4911 - acc: 0.8258\n",
      "Epoch 11/300\n",
      "712/712 - 0s - loss: 0.4887 - acc: 0.8174\n",
      "Epoch 12/300\n",
      "712/712 - 0s - loss: 0.4875 - acc: 0.8244\n",
      "Epoch 13/300\n",
      "712/712 - 0s - loss: 0.4859 - acc: 0.8287\n",
      "Epoch 14/300\n",
      "712/712 - 0s - loss: 0.4810 - acc: 0.8216\n",
      "Epoch 15/300\n",
      "712/712 - 0s - loss: 0.4818 - acc: 0.8272\n",
      "Epoch 16/300\n",
      "712/712 - 0s - loss: 0.4782 - acc: 0.8272\n",
      "Epoch 17/300\n",
      "712/712 - 0s - loss: 0.4781 - acc: 0.8272\n",
      "Epoch 18/300\n",
      "712/712 - 0s - loss: 0.4758 - acc: 0.8272\n",
      "Epoch 19/300\n",
      "712/712 - 0s - loss: 0.4719 - acc: 0.8287\n",
      "Epoch 20/300\n",
      "712/712 - 0s - loss: 0.4708 - acc: 0.8287\n",
      "Epoch 21/300\n",
      "712/712 - 0s - loss: 0.4685 - acc: 0.8272\n",
      "Epoch 22/300\n",
      "712/712 - 0s - loss: 0.4669 - acc: 0.8272\n",
      "Epoch 23/300\n",
      "712/712 - 0s - loss: 0.4654 - acc: 0.8244\n",
      "Epoch 24/300\n",
      "712/712 - 0s - loss: 0.4601 - acc: 0.8287\n",
      "Epoch 25/300\n",
      "712/712 - 0s - loss: 0.4604 - acc: 0.8301\n",
      "Epoch 26/300\n",
      "712/712 - 0s - loss: 0.4594 - acc: 0.8343\n",
      "Epoch 27/300\n",
      "712/712 - 0s - loss: 0.4543 - acc: 0.8329\n",
      "Epoch 28/300\n",
      "712/712 - 0s - loss: 0.4551 - acc: 0.8315\n",
      "Epoch 29/300\n",
      "712/712 - 0s - loss: 0.4547 - acc: 0.8287\n",
      "Epoch 30/300\n",
      "712/712 - 0s - loss: 0.4540 - acc: 0.8272\n",
      "Epoch 31/300\n",
      "712/712 - 0s - loss: 0.4536 - acc: 0.8287\n",
      "Epoch 32/300\n",
      "712/712 - 0s - loss: 0.4506 - acc: 0.8287\n",
      "Epoch 33/300\n",
      "712/712 - 0s - loss: 0.4483 - acc: 0.8272\n",
      "Epoch 34/300\n",
      "712/712 - 0s - loss: 0.4447 - acc: 0.8343\n",
      "Epoch 35/300\n",
      "712/712 - 0s - loss: 0.4430 - acc: 0.8399\n",
      "Epoch 36/300\n",
      "712/712 - 0s - loss: 0.4410 - acc: 0.8301\n",
      "Epoch 37/300\n",
      "712/712 - 0s - loss: 0.4423 - acc: 0.8385\n",
      "Epoch 38/300\n",
      "712/712 - 0s - loss: 0.4392 - acc: 0.8301\n",
      "Epoch 39/300\n",
      "712/712 - 0s - loss: 0.4382 - acc: 0.8315\n",
      "Epoch 40/300\n",
      "712/712 - 0s - loss: 0.4360 - acc: 0.8258\n",
      "Epoch 41/300\n",
      "712/712 - 0s - loss: 0.4371 - acc: 0.8272\n",
      "Epoch 42/300\n",
      "712/712 - 0s - loss: 0.4305 - acc: 0.8272\n",
      "Epoch 43/300\n",
      "712/712 - 0s - loss: 0.4319 - acc: 0.8357\n",
      "Epoch 44/300\n",
      "712/712 - 0s - loss: 0.4337 - acc: 0.8329\n",
      "Epoch 45/300\n",
      "712/712 - 0s - loss: 0.4269 - acc: 0.8441\n",
      "Epoch 46/300\n",
      "712/712 - 0s - loss: 0.4291 - acc: 0.8301\n",
      "Epoch 47/300\n",
      "712/712 - 0s - loss: 0.4243 - acc: 0.8357\n",
      "Epoch 48/300\n",
      "712/712 - 0s - loss: 0.4262 - acc: 0.8371\n",
      "Epoch 49/300\n",
      "712/712 - 0s - loss: 0.4254 - acc: 0.8287\n",
      "Epoch 50/300\n",
      "712/712 - 0s - loss: 0.4238 - acc: 0.8244\n",
      "Epoch 51/300\n",
      "712/712 - 0s - loss: 0.4190 - acc: 0.8441\n",
      "Epoch 52/300\n",
      "712/712 - 0s - loss: 0.4215 - acc: 0.8329\n",
      "Epoch 53/300\n",
      "712/712 - 0s - loss: 0.4157 - acc: 0.8413\n",
      "Epoch 54/300\n",
      "712/712 - 0s - loss: 0.4190 - acc: 0.8216\n",
      "Epoch 55/300\n",
      "712/712 - 0s - loss: 0.4158 - acc: 0.8385\n",
      "Epoch 56/300\n",
      "712/712 - 0s - loss: 0.4147 - acc: 0.8357\n",
      "Epoch 57/300\n",
      "712/712 - 0s - loss: 0.4159 - acc: 0.8385\n",
      "Epoch 58/300\n",
      "712/712 - 0s - loss: 0.4101 - acc: 0.8413\n",
      "Epoch 59/300\n",
      "712/712 - 0s - loss: 0.4125 - acc: 0.8399\n",
      "Epoch 60/300\n",
      "712/712 - 0s - loss: 0.4093 - acc: 0.8399\n",
      "Epoch 61/300\n",
      "712/712 - 0s - loss: 0.4069 - acc: 0.8371\n",
      "Epoch 62/300\n",
      "712/712 - 0s - loss: 0.4109 - acc: 0.8427\n",
      "Epoch 63/300\n",
      "712/712 - 0s - loss: 0.4054 - acc: 0.8483\n",
      "Epoch 64/300\n",
      "712/712 - 0s - loss: 0.4050 - acc: 0.8399\n",
      "Epoch 65/300\n",
      "712/712 - 0s - loss: 0.4067 - acc: 0.8343\n",
      "Epoch 66/300\n",
      "712/712 - 0s - loss: 0.4071 - acc: 0.8413\n",
      "Epoch 67/300\n",
      "712/712 - 0s - loss: 0.4008 - acc: 0.8385\n",
      "Epoch 68/300\n",
      "712/712 - 0s - loss: 0.4028 - acc: 0.8399\n",
      "Epoch 69/300\n",
      "712/712 - 0s - loss: 0.3973 - acc: 0.8441\n",
      "Epoch 70/300\n",
      "712/712 - 0s - loss: 0.4058 - acc: 0.8357\n",
      "Epoch 71/300\n",
      "712/712 - 0s - loss: 0.4041 - acc: 0.8329\n",
      "Epoch 72/300\n",
      "712/712 - 0s - loss: 0.3982 - acc: 0.8329\n",
      "Epoch 73/300\n",
      "712/712 - 0s - loss: 0.3965 - acc: 0.8399\n",
      "Epoch 74/300\n",
      "712/712 - 0s - loss: 0.3924 - acc: 0.8455\n",
      "Epoch 75/300\n",
      "712/712 - 0s - loss: 0.3918 - acc: 0.8427\n",
      "Epoch 76/300\n",
      "712/712 - 0s - loss: 0.3930 - acc: 0.8427\n",
      "Epoch 77/300\n",
      "712/712 - 0s - loss: 0.3949 - acc: 0.8441\n",
      "Epoch 78/300\n",
      "712/712 - 0s - loss: 0.3931 - acc: 0.8427\n",
      "Epoch 79/300\n",
      "712/712 - 0s - loss: 0.3894 - acc: 0.8441\n",
      "Epoch 80/300\n",
      "712/712 - 0s - loss: 0.3898 - acc: 0.8399\n",
      "Epoch 81/300\n",
      "712/712 - 0s - loss: 0.3923 - acc: 0.8441\n",
      "Epoch 82/300\n",
      "712/712 - 0s - loss: 0.3891 - acc: 0.8441\n",
      "Epoch 83/300\n",
      "712/712 - 0s - loss: 0.3860 - acc: 0.8553\n",
      "Epoch 84/300\n",
      "712/712 - 0s - loss: 0.3858 - acc: 0.8539\n",
      "Epoch 85/300\n",
      "712/712 - 0s - loss: 0.3871 - acc: 0.8371\n",
      "Epoch 86/300\n",
      "712/712 - 0s - loss: 0.3865 - acc: 0.8357\n",
      "Epoch 87/300\n",
      "712/712 - 0s - loss: 0.3836 - acc: 0.8399\n",
      "Epoch 88/300\n",
      "712/712 - 0s - loss: 0.3855 - acc: 0.8427\n",
      "Epoch 89/300\n",
      "712/712 - 0s - loss: 0.3810 - acc: 0.8497\n",
      "Epoch 90/300\n",
      "712/712 - 0s - loss: 0.3796 - acc: 0.8497\n",
      "Epoch 91/300\n",
      "712/712 - 0s - loss: 0.3805 - acc: 0.8610\n",
      "Epoch 92/300\n",
      "712/712 - 0s - loss: 0.3874 - acc: 0.8343\n",
      "Epoch 93/300\n",
      "712/712 - 0s - loss: 0.3783 - acc: 0.8413\n",
      "Epoch 94/300\n",
      "712/712 - 0s - loss: 0.3773 - acc: 0.8497\n",
      "Epoch 95/300\n",
      "712/712 - 0s - loss: 0.3788 - acc: 0.8469\n",
      "Epoch 96/300\n",
      "712/712 - 0s - loss: 0.3760 - acc: 0.8553\n",
      "Epoch 97/300\n",
      "712/712 - 0s - loss: 0.3807 - acc: 0.8483\n",
      "Epoch 98/300\n",
      "712/712 - 0s - loss: 0.3761 - acc: 0.8511\n",
      "Epoch 99/300\n",
      "712/712 - 0s - loss: 0.3757 - acc: 0.8483\n",
      "Epoch 100/300\n",
      "712/712 - 0s - loss: 0.3766 - acc: 0.8483\n",
      "Epoch 101/300\n",
      "712/712 - 0s - loss: 0.3765 - acc: 0.8441\n",
      "Epoch 102/300\n",
      "712/712 - 0s - loss: 0.3750 - acc: 0.8497\n",
      "Epoch 103/300\n",
      "712/712 - 0s - loss: 0.3764 - acc: 0.8483\n",
      "Epoch 104/300\n",
      "712/712 - 0s - loss: 0.3758 - acc: 0.8469\n",
      "Epoch 105/300\n",
      "712/712 - 0s - loss: 0.3732 - acc: 0.8596\n",
      "Epoch 106/300\n",
      "712/712 - 0s - loss: 0.3700 - acc: 0.8511\n",
      "Epoch 107/300\n",
      "712/712 - 0s - loss: 0.3726 - acc: 0.8539\n",
      "Epoch 108/300\n",
      "712/712 - 0s - loss: 0.3733 - acc: 0.8469\n",
      "Epoch 109/300\n",
      "712/712 - 0s - loss: 0.3701 - acc: 0.8567\n",
      "Epoch 110/300\n",
      "712/712 - 0s - loss: 0.3753 - acc: 0.8497\n",
      "Epoch 111/300\n",
      "712/712 - 0s - loss: 0.3688 - acc: 0.8553\n",
      "Epoch 112/300\n",
      "712/712 - 0s - loss: 0.3749 - acc: 0.8427\n",
      "Epoch 113/300\n",
      "712/712 - 0s - loss: 0.3694 - acc: 0.8497\n",
      "Epoch 114/300\n",
      "712/712 - 0s - loss: 0.3697 - acc: 0.8525\n",
      "Epoch 115/300\n",
      "712/712 - 0s - loss: 0.3705 - acc: 0.8469\n",
      "Epoch 116/300\n",
      "712/712 - 0s - loss: 0.3734 - acc: 0.8497\n",
      "Epoch 117/300\n",
      "712/712 - 0s - loss: 0.3672 - acc: 0.8441\n",
      "Epoch 118/300\n",
      "712/712 - 0s - loss: 0.3716 - acc: 0.8455\n",
      "Epoch 119/300\n",
      "712/712 - 0s - loss: 0.3681 - acc: 0.8469\n",
      "Epoch 120/300\n",
      "712/712 - 0s - loss: 0.3689 - acc: 0.8553\n",
      "Epoch 121/300\n",
      "712/712 - 0s - loss: 0.3661 - acc: 0.8497\n",
      "Epoch 122/300\n",
      "712/712 - 0s - loss: 0.3683 - acc: 0.8553\n",
      "Epoch 123/300\n",
      "712/712 - 0s - loss: 0.3631 - acc: 0.8497\n",
      "Epoch 124/300\n",
      "712/712 - 0s - loss: 0.3647 - acc: 0.8511\n",
      "Epoch 125/300\n",
      "712/712 - 0s - loss: 0.3686 - acc: 0.8497\n",
      "Epoch 126/300\n",
      "712/712 - 0s - loss: 0.3595 - acc: 0.8567\n",
      "Epoch 127/300\n",
      "712/712 - 0s - loss: 0.3623 - acc: 0.8624\n",
      "Epoch 128/300\n",
      "712/712 - 0s - loss: 0.3696 - acc: 0.8567\n",
      "Epoch 129/300\n",
      "712/712 - 0s - loss: 0.3678 - acc: 0.8427\n",
      "Epoch 130/300\n",
      "712/712 - 0s - loss: 0.3611 - acc: 0.8581\n",
      "Epoch 131/300\n",
      "712/712 - 0s - loss: 0.3629 - acc: 0.8581\n",
      "Epoch 132/300\n",
      "712/712 - 0s - loss: 0.3583 - acc: 0.8638\n",
      "Epoch 133/300\n",
      "712/712 - 0s - loss: 0.3575 - acc: 0.8624\n",
      "Epoch 134/300\n",
      "712/712 - 0s - loss: 0.3629 - acc: 0.8694\n",
      "Epoch 135/300\n",
      "712/712 - 0s - loss: 0.3595 - acc: 0.8638\n",
      "Epoch 136/300\n",
      "712/712 - 0s - loss: 0.3614 - acc: 0.8567\n",
      "Epoch 137/300\n",
      "712/712 - 0s - loss: 0.3606 - acc: 0.8610\n",
      "Epoch 138/300\n",
      "712/712 - 0s - loss: 0.3598 - acc: 0.8567\n",
      "Epoch 139/300\n",
      "712/712 - 0s - loss: 0.3572 - acc: 0.8567\n",
      "Epoch 140/300\n",
      "712/712 - 0s - loss: 0.3617 - acc: 0.8567\n",
      "Epoch 141/300\n",
      "712/712 - 0s - loss: 0.3591 - acc: 0.8525\n",
      "Epoch 142/300\n",
      "712/712 - 0s - loss: 0.3585 - acc: 0.8610\n",
      "Epoch 143/300\n",
      "712/712 - 0s - loss: 0.3566 - acc: 0.8624\n",
      "Epoch 144/300\n",
      "712/712 - 0s - loss: 0.3626 - acc: 0.8497\n",
      "Epoch 145/300\n",
      "712/712 - 0s - loss: 0.3551 - acc: 0.8624\n",
      "Epoch 146/300\n",
      "712/712 - 0s - loss: 0.3589 - acc: 0.8553\n",
      "Epoch 147/300\n",
      "712/712 - 0s - loss: 0.3543 - acc: 0.8596\n",
      "Epoch 148/300\n",
      "712/712 - 0s - loss: 0.3553 - acc: 0.8553\n",
      "Epoch 149/300\n",
      "712/712 - 0s - loss: 0.3534 - acc: 0.8567\n",
      "Epoch 150/300\n",
      "712/712 - 0s - loss: 0.3567 - acc: 0.8567\n",
      "Epoch 151/300\n",
      "712/712 - 0s - loss: 0.3531 - acc: 0.8539\n",
      "Epoch 152/300\n"
     ]
    },
    {
     "name": "stdout",
     "output_type": "stream",
     "text": [
      "712/712 - 0s - loss: 0.3537 - acc: 0.8624\n",
      "Epoch 153/300\n",
      "712/712 - 0s - loss: 0.3601 - acc: 0.8525\n",
      "Epoch 154/300\n",
      "712/712 - 0s - loss: 0.3523 - acc: 0.8722\n",
      "Epoch 155/300\n",
      "712/712 - 0s - loss: 0.3540 - acc: 0.8567\n",
      "Epoch 156/300\n",
      "712/712 - 0s - loss: 0.3572 - acc: 0.8610\n",
      "Epoch 157/300\n",
      "712/712 - 0s - loss: 0.3539 - acc: 0.8539\n",
      "Epoch 158/300\n",
      "712/712 - 0s - loss: 0.3537 - acc: 0.8666\n",
      "Epoch 159/300\n",
      "712/712 - 0s - loss: 0.3534 - acc: 0.8596\n",
      "Epoch 160/300\n",
      "712/712 - 0s - loss: 0.3512 - acc: 0.8624\n",
      "Epoch 161/300\n",
      "712/712 - 0s - loss: 0.3519 - acc: 0.8610\n",
      "Epoch 162/300\n",
      "712/712 - 0s - loss: 0.3507 - acc: 0.8666\n",
      "Epoch 163/300\n",
      "712/712 - 0s - loss: 0.3494 - acc: 0.8596\n",
      "Epoch 164/300\n",
      "712/712 - 0s - loss: 0.3581 - acc: 0.8624\n",
      "Epoch 165/300\n",
      "712/712 - 0s - loss: 0.3485 - acc: 0.8638\n",
      "Epoch 166/300\n",
      "712/712 - 0s - loss: 0.3487 - acc: 0.8581\n",
      "Epoch 167/300\n",
      "712/712 - 0s - loss: 0.3441 - acc: 0.8638\n",
      "Epoch 168/300\n",
      "712/712 - 0s - loss: 0.3530 - acc: 0.8596\n",
      "Epoch 169/300\n",
      "712/712 - 0s - loss: 0.3551 - acc: 0.8581\n",
      "Epoch 170/300\n",
      "712/712 - 0s - loss: 0.3506 - acc: 0.8567\n",
      "Epoch 171/300\n",
      "712/712 - 0s - loss: 0.3541 - acc: 0.8567\n",
      "Epoch 172/300\n",
      "712/712 - 0s - loss: 0.3474 - acc: 0.8624\n",
      "Epoch 173/300\n",
      "712/712 - 0s - loss: 0.3465 - acc: 0.8638\n",
      "Epoch 174/300\n",
      "712/712 - 0s - loss: 0.3507 - acc: 0.8666\n",
      "Epoch 175/300\n",
      "712/712 - 0s - loss: 0.3468 - acc: 0.8652\n",
      "Epoch 176/300\n",
      "712/712 - 0s - loss: 0.3467 - acc: 0.8581\n",
      "Epoch 177/300\n",
      "712/712 - 0s - loss: 0.3476 - acc: 0.8610\n",
      "Epoch 178/300\n",
      "712/712 - 0s - loss: 0.3537 - acc: 0.8610\n",
      "Epoch 179/300\n",
      "712/712 - 0s - loss: 0.3461 - acc: 0.8638\n",
      "Epoch 180/300\n",
      "712/712 - 0s - loss: 0.3451 - acc: 0.8666\n",
      "Epoch 181/300\n",
      "712/712 - 0s - loss: 0.3502 - acc: 0.8610\n",
      "Epoch 182/300\n",
      "712/712 - 0s - loss: 0.3497 - acc: 0.8553\n",
      "Epoch 183/300\n",
      "712/712 - 0s - loss: 0.3464 - acc: 0.8624\n",
      "Epoch 184/300\n",
      "712/712 - 0s - loss: 0.3410 - acc: 0.8624\n",
      "Epoch 185/300\n",
      "712/712 - 0s - loss: 0.3517 - acc: 0.8624\n",
      "Epoch 186/300\n",
      "712/712 - 0s - loss: 0.3425 - acc: 0.8736\n",
      "Epoch 187/300\n",
      "712/712 - 0s - loss: 0.3473 - acc: 0.8722\n",
      "Epoch 188/300\n",
      "712/712 - 0s - loss: 0.3455 - acc: 0.8581\n",
      "Epoch 189/300\n",
      "712/712 - 0s - loss: 0.3382 - acc: 0.8624\n",
      "Epoch 190/300\n",
      "712/712 - 0s - loss: 0.3483 - acc: 0.8610\n",
      "Epoch 191/300\n",
      "712/712 - 0s - loss: 0.3391 - acc: 0.8652\n",
      "Epoch 192/300\n",
      "712/712 - 0s - loss: 0.3404 - acc: 0.8680\n",
      "Epoch 193/300\n",
      "712/712 - 0s - loss: 0.3390 - acc: 0.8736\n",
      "Epoch 194/300\n",
      "712/712 - 0s - loss: 0.3425 - acc: 0.8596\n",
      "Epoch 195/300\n",
      "712/712 - 0s - loss: 0.3461 - acc: 0.8525\n",
      "Epoch 196/300\n",
      "712/712 - 0s - loss: 0.3402 - acc: 0.8680\n",
      "Epoch 197/300\n",
      "712/712 - 0s - loss: 0.3378 - acc: 0.8722\n",
      "Epoch 198/300\n",
      "712/712 - 0s - loss: 0.3416 - acc: 0.8638\n",
      "Epoch 199/300\n",
      "712/712 - 0s - loss: 0.3450 - acc: 0.8567\n",
      "Epoch 200/300\n",
      "712/712 - 0s - loss: 0.3378 - acc: 0.8596\n",
      "Epoch 201/300\n",
      "712/712 - 0s - loss: 0.3391 - acc: 0.8778\n",
      "Epoch 202/300\n",
      "712/712 - 0s - loss: 0.3420 - acc: 0.8736\n",
      "Epoch 203/300\n",
      "712/712 - 0s - loss: 0.3408 - acc: 0.8596\n",
      "Epoch 204/300\n",
      "712/712 - 0s - loss: 0.3392 - acc: 0.8638\n",
      "Epoch 205/300\n",
      "712/712 - 0s - loss: 0.3398 - acc: 0.8680\n",
      "Epoch 206/300\n",
      "712/712 - 0s - loss: 0.3382 - acc: 0.8778\n",
      "Epoch 207/300\n",
      "712/712 - 0s - loss: 0.3332 - acc: 0.8708\n",
      "Epoch 208/300\n",
      "712/712 - 0s - loss: 0.3439 - acc: 0.8652\n",
      "Epoch 209/300\n",
      "712/712 - 0s - loss: 0.3316 - acc: 0.8638\n",
      "Epoch 210/300\n",
      "712/712 - 0s - loss: 0.3337 - acc: 0.8736\n",
      "Epoch 211/300\n",
      "712/712 - 0s - loss: 0.3361 - acc: 0.8708\n",
      "Epoch 212/300\n",
      "712/712 - 0s - loss: 0.3337 - acc: 0.8722\n",
      "Epoch 213/300\n",
      "712/712 - 0s - loss: 0.3383 - acc: 0.8666\n",
      "Epoch 214/300\n",
      "712/712 - 0s - loss: 0.3333 - acc: 0.8666\n",
      "Epoch 215/300\n",
      "712/712 - 0s - loss: 0.3395 - acc: 0.8581\n",
      "Epoch 216/300\n",
      "712/712 - 0s - loss: 0.3303 - acc: 0.8680\n",
      "Epoch 217/300\n",
      "712/712 - 0s - loss: 0.3349 - acc: 0.8708\n",
      "Epoch 218/300\n",
      "712/712 - 0s - loss: 0.3296 - acc: 0.8694\n",
      "Epoch 219/300\n",
      "712/712 - 0s - loss: 0.3383 - acc: 0.8680\n",
      "Epoch 220/300\n",
      "712/712 - 0s - loss: 0.3365 - acc: 0.8694\n",
      "Epoch 221/300\n",
      "712/712 - 0s - loss: 0.3340 - acc: 0.8652\n",
      "Epoch 222/300\n",
      "712/712 - 0s - loss: 0.3381 - acc: 0.8722\n",
      "Epoch 223/300\n",
      "712/712 - 0s - loss: 0.3323 - acc: 0.8694\n",
      "Epoch 224/300\n",
      "712/712 - 0s - loss: 0.3312 - acc: 0.8694\n",
      "Epoch 225/300\n",
      "712/712 - 0s - loss: 0.3317 - acc: 0.8666\n",
      "Epoch 226/300\n",
      "712/712 - 0s - loss: 0.3330 - acc: 0.8708\n",
      "Epoch 227/300\n",
      "712/712 - 0s - loss: 0.3324 - acc: 0.8694\n",
      "Epoch 228/300\n",
      "712/712 - 0s - loss: 0.3328 - acc: 0.8736\n",
      "Epoch 229/300\n",
      "712/712 - 0s - loss: 0.3307 - acc: 0.8680\n",
      "Epoch 230/300\n",
      "712/712 - 0s - loss: 0.3334 - acc: 0.8596\n",
      "Epoch 231/300\n",
      "712/712 - 0s - loss: 0.3304 - acc: 0.8722\n",
      "Epoch 232/300\n",
      "712/712 - 0s - loss: 0.3364 - acc: 0.8680\n",
      "Epoch 233/300\n",
      "712/712 - 0s - loss: 0.3317 - acc: 0.8624\n",
      "Epoch 234/300\n",
      "712/712 - 0s - loss: 0.3258 - acc: 0.8778\n",
      "Epoch 235/300\n",
      "712/712 - 0s - loss: 0.3320 - acc: 0.8764\n",
      "Epoch 236/300\n",
      "712/712 - 0s - loss: 0.3278 - acc: 0.8708\n",
      "Epoch 237/300\n",
      "712/712 - 0s - loss: 0.3353 - acc: 0.8708\n",
      "Epoch 238/300\n",
      "712/712 - 0s - loss: 0.3304 - acc: 0.8666\n",
      "Epoch 239/300\n",
      "712/712 - 0s - loss: 0.3251 - acc: 0.8750\n",
      "Epoch 240/300\n",
      "712/712 - 0s - loss: 0.3383 - acc: 0.8638\n",
      "Epoch 241/300\n",
      "712/712 - 0s - loss: 0.3254 - acc: 0.8722\n",
      "Epoch 242/300\n",
      "712/712 - 0s - loss: 0.3312 - acc: 0.8652\n",
      "Epoch 243/300\n",
      "712/712 - 0s - loss: 0.3308 - acc: 0.8680\n",
      "Epoch 244/300\n",
      "712/712 - 0s - loss: 0.3304 - acc: 0.8722\n",
      "Epoch 245/300\n",
      "712/712 - 0s - loss: 0.3221 - acc: 0.8792\n",
      "Epoch 246/300\n",
      "712/712 - 0s - loss: 0.3283 - acc: 0.8694\n",
      "Epoch 247/300\n",
      "712/712 - 0s - loss: 0.3289 - acc: 0.8792\n",
      "Epoch 248/300\n",
      "712/712 - 0s - loss: 0.3306 - acc: 0.8666\n",
      "Epoch 249/300\n",
      "712/712 - 0s - loss: 0.3294 - acc: 0.8680\n",
      "Epoch 250/300\n",
      "712/712 - 0s - loss: 0.3237 - acc: 0.8722\n",
      "Epoch 251/300\n",
      "712/712 - 0s - loss: 0.3288 - acc: 0.8694\n",
      "Epoch 252/300\n",
      "712/712 - 0s - loss: 0.3199 - acc: 0.8778\n",
      "Epoch 253/300\n",
      "712/712 - 0s - loss: 0.3296 - acc: 0.8680\n",
      "Epoch 254/300\n",
      "712/712 - 0s - loss: 0.3246 - acc: 0.8722\n",
      "Epoch 255/300\n",
      "712/712 - 0s - loss: 0.3250 - acc: 0.8708\n",
      "Epoch 256/300\n",
      "712/712 - 0s - loss: 0.3308 - acc: 0.8694\n",
      "Epoch 257/300\n",
      "712/712 - 0s - loss: 0.3250 - acc: 0.8708\n",
      "Epoch 258/300\n",
      "712/712 - 0s - loss: 0.3265 - acc: 0.8652\n",
      "Epoch 259/300\n",
      "712/712 - 0s - loss: 0.3282 - acc: 0.8750\n",
      "Epoch 260/300\n",
      "712/712 - 0s - loss: 0.3185 - acc: 0.8806\n",
      "Epoch 261/300\n",
      "712/712 - 0s - loss: 0.3256 - acc: 0.8722\n",
      "Epoch 262/300\n",
      "712/712 - 0s - loss: 0.3233 - acc: 0.8834\n",
      "Epoch 263/300\n",
      "712/712 - 0s - loss: 0.3247 - acc: 0.8792\n",
      "Epoch 264/300\n",
      "712/712 - 0s - loss: 0.3253 - acc: 0.8694\n",
      "Epoch 265/300\n",
      "712/712 - 0s - loss: 0.3258 - acc: 0.8708\n",
      "Epoch 266/300\n",
      "712/712 - 0s - loss: 0.3219 - acc: 0.8750\n",
      "Epoch 267/300\n",
      "712/712 - 0s - loss: 0.3240 - acc: 0.8652\n",
      "Epoch 268/300\n",
      "712/712 - 0s - loss: 0.3287 - acc: 0.8750\n",
      "Epoch 269/300\n",
      "712/712 - 0s - loss: 0.3249 - acc: 0.8750\n",
      "Epoch 270/300\n",
      "712/712 - 0s - loss: 0.3245 - acc: 0.8722\n",
      "Epoch 271/300\n",
      "712/712 - 0s - loss: 0.3244 - acc: 0.8680\n",
      "Epoch 272/300\n",
      "712/712 - 0s - loss: 0.3214 - acc: 0.8764\n",
      "Epoch 273/300\n",
      "712/712 - 0s - loss: 0.3224 - acc: 0.8694\n",
      "Epoch 274/300\n",
      "712/712 - 0s - loss: 0.3254 - acc: 0.8750\n",
      "Epoch 275/300\n",
      "712/712 - 0s - loss: 0.3237 - acc: 0.8792\n",
      "Epoch 276/300\n",
      "712/712 - 0s - loss: 0.3246 - acc: 0.8666\n",
      "Epoch 277/300\n",
      "712/712 - 0s - loss: 0.3309 - acc: 0.8666\n",
      "Epoch 278/300\n",
      "712/712 - 0s - loss: 0.3176 - acc: 0.8848\n",
      "Epoch 279/300\n",
      "712/712 - 0s - loss: 0.3224 - acc: 0.8694\n",
      "Epoch 280/300\n",
      "712/712 - 0s - loss: 0.3255 - acc: 0.8652\n",
      "Epoch 281/300\n",
      "712/712 - 0s - loss: 0.3226 - acc: 0.8750\n",
      "Epoch 282/300\n",
      "712/712 - 0s - loss: 0.3213 - acc: 0.8680\n",
      "Epoch 283/300\n",
      "712/712 - 0s - loss: 0.3225 - acc: 0.8778\n",
      "Epoch 284/300\n",
      "712/712 - 0s - loss: 0.3187 - acc: 0.8694\n",
      "Epoch 285/300\n",
      "712/712 - 0s - loss: 0.3223 - acc: 0.8722\n",
      "Epoch 286/300\n",
      "712/712 - 0s - loss: 0.3260 - acc: 0.8694\n",
      "Epoch 287/300\n",
      "712/712 - 0s - loss: 0.3221 - acc: 0.8750\n",
      "Epoch 288/300\n",
      "712/712 - 0s - loss: 0.3214 - acc: 0.8792\n",
      "Epoch 289/300\n",
      "712/712 - 0s - loss: 0.3191 - acc: 0.8820\n",
      "Epoch 290/300\n",
      "712/712 - 0s - loss: 0.3206 - acc: 0.8764\n",
      "Epoch 291/300\n",
      "712/712 - 0s - loss: 0.3207 - acc: 0.8792\n",
      "Epoch 292/300\n",
      "712/712 - 0s - loss: 0.3191 - acc: 0.8750\n",
      "Epoch 293/300\n",
      "712/712 - 0s - loss: 0.3247 - acc: 0.8722\n",
      "Epoch 294/300\n",
      "712/712 - 0s - loss: 0.3188 - acc: 0.8750\n",
      "Epoch 295/300\n",
      "712/712 - 0s - loss: 0.3212 - acc: 0.8792\n",
      "Epoch 296/300\n",
      "712/712 - 0s - loss: 0.3138 - acc: 0.8764\n",
      "Epoch 297/300\n",
      "712/712 - 0s - loss: 0.3245 - acc: 0.8722\n",
      "Epoch 298/300\n",
      "712/712 - 0s - loss: 0.3191 - acc: 0.8778\n"
     ]
    },
    {
     "name": "stdout",
     "output_type": "stream",
     "text": [
      "Epoch 299/300\n",
      "712/712 - 0s - loss: 0.3210 - acc: 0.8764\n",
      "Epoch 300/300\n",
      "712/712 - 0s - loss: 0.3223 - acc: 0.8694\n",
      "[[False]\n",
      " [ True]\n",
      " [False]\n",
      " [ True]\n",
      " [False]\n",
      " [False]\n",
      " [False]\n",
      " [False]\n",
      " [False]\n",
      " [ True]\n",
      " [ True]\n",
      " [ True]\n",
      " [False]\n",
      " [False]\n",
      " [False]\n",
      " [False]\n",
      " [False]\n",
      " [False]\n",
      " [False]\n",
      " [ True]\n",
      " [False]\n",
      " [False]\n",
      " [False]\n",
      " [False]\n",
      " [False]\n",
      " [False]\n",
      " [ True]\n",
      " [ True]\n",
      " [ True]\n",
      " [ True]\n",
      " [ True]\n",
      " [ True]\n",
      " [False]\n",
      " [False]\n",
      " [False]\n",
      " [False]\n",
      " [False]\n",
      " [ True]\n",
      " [ True]\n",
      " [False]\n",
      " [False]\n",
      " [ True]\n",
      " [False]\n",
      " [False]\n",
      " [ True]\n",
      " [False]\n",
      " [False]\n",
      " [False]\n",
      " [ True]\n",
      " [False]\n",
      " [ True]\n",
      " [False]\n",
      " [False]\n",
      " [False]\n",
      " [False]\n",
      " [False]\n",
      " [ True]\n",
      " [ True]\n",
      " [ True]\n",
      " [ True]\n",
      " [False]\n",
      " [ True]\n",
      " [False]\n",
      " [ True]\n",
      " [ True]\n",
      " [ True]\n",
      " [ True]\n",
      " [ True]\n",
      " [False]\n",
      " [ True]\n",
      " [False]\n",
      " [False]\n",
      " [False]\n",
      " [False]\n",
      " [False]\n",
      " [ True]\n",
      " [False]\n",
      " [False]\n",
      " [False]\n",
      " [False]\n",
      " [False]\n",
      " [ True]\n",
      " [False]\n",
      " [False]\n",
      " [False]\n",
      " [False]\n",
      " [False]\n",
      " [False]\n",
      " [ True]\n",
      " [ True]\n",
      " [ True]\n",
      " [False]\n",
      " [False]\n",
      " [ True]\n",
      " [False]\n",
      " [ True]\n",
      " [False]\n",
      " [ True]\n",
      " [False]\n",
      " [ True]\n",
      " [ True]\n",
      " [False]\n",
      " [False]\n",
      " [False]\n",
      " [False]\n",
      " [False]\n",
      " [False]\n",
      " [ True]\n",
      " [False]\n",
      " [False]\n",
      " [ True]\n",
      " [ True]\n",
      " [False]\n",
      " [False]\n",
      " [False]\n",
      " [False]\n",
      " [False]\n",
      " [False]\n",
      " [ True]\n",
      " [ True]\n",
      " [False]\n",
      " [False]\n",
      " [ True]\n",
      " [False]\n",
      " [False]\n",
      " [False]\n",
      " [False]\n",
      " [False]\n",
      " [ True]\n",
      " [ True]\n",
      " [False]\n",
      " [False]\n",
      " [ True]\n",
      " [ True]\n",
      " [False]\n",
      " [ True]\n",
      " [False]\n",
      " [False]\n",
      " [ True]\n",
      " [False]\n",
      " [ True]\n",
      " [False]\n",
      " [ True]\n",
      " [ True]\n",
      " [ True]\n",
      " [False]\n",
      " [False]\n",
      " [ True]\n",
      " [False]\n",
      " [False]\n",
      " [False]\n",
      " [False]\n",
      " [ True]\n",
      " [False]\n",
      " [ True]\n",
      " [False]\n",
      " [False]\n",
      " [False]\n",
      " [ True]\n",
      " [False]\n",
      " [False]\n",
      " [False]\n",
      " [False]\n",
      " [ True]\n",
      " [False]\n",
      " [False]\n",
      " [ True]\n",
      " [ True]\n",
      " [False]\n",
      " [ True]\n",
      " [False]\n",
      " [False]\n",
      " [False]\n",
      " [False]\n",
      " [ True]\n",
      " [False]\n",
      " [False]\n",
      " [ True]\n",
      " [False]]\n"
     ]
    }
   ],
   "source": [
    "classifier.fit(X_train , Y_train , epochs= 300 , callbacks=[early_stopping_monitor], verbose=2)\n",
    "y_pred = classifier.predict(X_test)\n",
    "y_pred = (y_pred > 0.5)\n",
    "print(y_pred)"
   ]
  },
  {
   "cell_type": "code",
   "execution_count": 89,
   "metadata": {},
   "outputs": [
    {
     "name": "stdout",
     "output_type": "stream",
     "text": [
      "[[90 15]\n",
      " [24 50]]\n"
     ]
    }
   ],
   "source": [
    "from sklearn.metrics import confusion_matrix\n",
    "cm  = confusion_matrix(Y_test , y_pred)\n",
    "print(cm)"
   ]
  },
  {
   "cell_type": "code",
   "execution_count": null,
   "metadata": {},
   "outputs": [],
   "source": []
  },
  {
   "cell_type": "markdown",
   "metadata": {},
   "source": [
    "# Random Forest"
   ]
  },
  {
   "cell_type": "code",
   "execution_count": 25,
   "metadata": {},
   "outputs": [
    {
     "data": {
      "text/plain": [
       "RandomForestClassifier(bootstrap=True, ccp_alpha=0.0, class_weight=None,\n",
       "                       criterion='gini', max_depth=6, max_features='sqrt',\n",
       "                       max_leaf_nodes=None, max_samples=None,\n",
       "                       min_impurity_decrease=0.0, min_impurity_split=None,\n",
       "                       min_samples_leaf=2, min_samples_split=2,\n",
       "                       min_weight_fraction_leaf=0.0, n_estimators=500,\n",
       "                       n_jobs=-1, oob_score=False, random_state=None, verbose=0,\n",
       "                       warm_start=True)"
      ]
     },
     "execution_count": 25,
     "metadata": {},
     "output_type": "execute_result"
    }
   ],
   "source": [
    "classifier = RandomForestClassifier(n_jobs =  -1,\n",
    "    n_estimators= 500,\n",
    "     warm_start= True,\n",
    "    max_depth= 6,\n",
    "    min_samples_leaf= 2,\n",
    "    max_features = 'sqrt',\n",
    "    verbose =  0)\n",
    "classifier.fit(X_train , Y_train)"
   ]
  },
  {
   "cell_type": "code",
   "execution_count": 26,
   "metadata": {},
   "outputs": [
    {
     "name": "stdout",
     "output_type": "stream",
     "text": [
      "[0 0 1 0 0 0 0 0 1 1 0 0 1 0 1 0 0 1 0 0 0 0 0 1 0 0 1 1 0 0 0 1 1 1 0 1 1\n",
      " 1 1 0 0 0 0 1 0 0 0 1 1 0 0 1 1 0 1 1 1 0 1 0 0 0 0 1 0 0 0 1 0 0 1 0 0 0\n",
      " 0 0 0 1 0 1 0 0 0 0 0 1 0 1 1 1 0 0 0 0 0 0 0 1 1 0 0 1 0 0 1 0 0 0 0 0 0\n",
      " 0 0 1 1 1 0 1 1 0 0 0 0 1 0 0 0 0 0 1 0 0 0 0 0 1 0 0 0 1 1 0 0 1 0 0 0 0\n",
      " 0 0 0 0 0 0 0 1 0 0 1 0 1 1 0 0 0 0 0 0 0 0 1 1 0 0 0 0 0 0 0]\n"
     ]
    }
   ],
   "source": [
    "# y_pred = classifier.predict(X_test)\n",
    "# print(y_pred)"
   ]
  },
  {
   "cell_type": "code",
   "execution_count": 27,
   "metadata": {},
   "outputs": [
    {
     "data": {
      "text/plain": [
       "<sklearn.metrics._plot.confusion_matrix.ConfusionMatrixDisplay at 0x25cf7828888>"
      ]
     },
     "execution_count": 27,
     "metadata": {},
     "output_type": "execute_result"
    },
    {
     "data": {
      "image/png": "[encoded data removed]",
      "text/plain": [
       "<Figure size 432x288 with 2 Axes>"
      ]
     },
     "metadata": {
      "needs_background": "light"
     },
     "output_type": "display_data"
    }
   ],
   "source": [
    "plot_confusion_matrix(classifier , X_test , Y_test , display_labels=[\"Does not Survived\" , \"Survived\"])"
   ]
  },
  {
   "cell_type": "code",
   "execution_count": 28,
   "metadata": {},
   "outputs": [
    {
     "name": "stdout",
     "output_type": "stream",
     "text": [
      "0.88268156424581\n"
     ]
    }
   ],
   "source": [
    "from sklearn.metrics import accuracy_score\n",
    "score = accuracy_score(Y_test , y_pred)\n",
    "print(score)"
   ]
  },
  {
   "cell_type": "markdown",
   "metadata": {},
   "source": [
    "# Random Forest - 2"
   ]
  },
  {
   "cell_type": "code",
   "execution_count": 29,
   "metadata": {},
   "outputs": [
    {
     "data": {
      "text/plain": [
       "RandomForestClassifier(bootstrap=True, ccp_alpha=0.0, class_weight=None,\n",
       "                       criterion='entropy', max_depth=5, max_features='sqrt',\n",
       "                       max_leaf_nodes=None, max_samples=None,\n",
       "                       min_impurity_decrease=0.0, min_impurity_split=None,\n",
       "                       min_samples_leaf=1, min_samples_split=2,\n",
       "                       min_weight_fraction_leaf=0.0, n_estimators=400,\n",
       "                       n_jobs=-1, oob_score=False, random_state=2, verbose=0,\n",
       "                       warm_start=True)"
      ]
     },
     "execution_count": 29,
     "metadata": {},
     "output_type": "execute_result"
    }
   ],
   "source": [
    "classifier = RandomForestClassifier(n_jobs =  -1,\n",
    "    n_estimators= 400,\n",
    "     warm_start= True, \n",
    "#      max_features= 0.2,\n",
    "    random_state= 2,\n",
    "    max_depth= 5,\n",
    "    min_samples_leaf= 1,\n",
    "    max_features = 'sqrt',\n",
    "    criterion= 'entropy',                   \n",
    "    verbose =  0)\n",
    "classifier.fit(X_train , Y_train)"
   ]
  },
  {
   "cell_type": "code",
   "execution_count": 30,
   "metadata": {},
   "outputs": [
    {
     "name": "stdout",
     "output_type": "stream",
     "text": [
      "[0 0 1 0 0 0 0 0 1 1 0 0 1 0 1 0 0 1 0 0 0 0 0 1 0 0 1 1 0 0 0 1 1 1 0 1 1\n",
      " 1 1 0 0 0 0 1 0 0 0 1 1 0 0 1 1 0 1 1 1 0 1 0 0 0 0 0 0 0 0 1 0 0 1 0 0 0\n",
      " 0 0 0 1 0 1 0 0 0 0 0 1 0 1 1 1 0 0 0 0 0 0 0 1 1 0 0 1 0 0 1 0 0 0 0 0 0\n",
      " 0 0 1 1 1 0 1 1 0 0 0 0 1 0 0 0 0 0 1 0 0 0 0 0 1 0 0 0 1 1 0 0 0 0 0 0 0\n",
      " 0 0 0 0 0 0 0 1 0 0 1 0 1 1 0 0 0 0 0 0 0 0 1 1 0 0 0 0 0 0 0]\n"
     ]
    }
   ],
   "source": [
    "y_pred = classifier.predict(X_test)\n",
    "print(y_pred)"
   ]
  },
  {
   "cell_type": "code",
   "execution_count": 31,
   "metadata": {},
   "outputs": [
    {
     "data": {
      "text/plain": [
       "<sklearn.metrics._plot.confusion_matrix.ConfusionMatrixDisplay at 0x25cf77b0148>"
      ]
     },
     "execution_count": 31,
     "metadata": {},
     "output_type": "execute_result"
    },
    {
     "data": {
      "image/png": "[encoded data removed]",
      "text/plain": [
       "<Figure size 432x288 with 2 Axes>"
      ]
     },
     "metadata": {
      "needs_background": "light"
     },
     "output_type": "display_data"
    }
   ],
   "source": [
    "plot_confusion_matrix(classifier , X_test , Y_test , display_labels=[\"Does not Survived\" , \"Survived\"])"
   ]
  },
  {
   "cell_type": "code",
   "execution_count": 32,
   "metadata": {},
   "outputs": [
    {
     "name": "stdout",
     "output_type": "stream",
     "text": [
      "0.8715083798882681\n"
     ]
    }
   ],
   "source": [
    "from sklearn.metrics import accuracy_score\n",
    "score = accuracy_score(Y_test , y_pred)\n",
    "print(score)"
   ]
  },
  {
   "cell_type": "markdown",
   "metadata": {},
   "source": [
    "# SVC"
   ]
  },
  {
   "cell_type": "code",
   "execution_count": 33,
   "metadata": {},
   "outputs": [
    {
     "name": "stdout",
     "output_type": "stream",
     "text": [
      "SVC(C=1.0, break_ties=False, cache_size=200, class_weight=None, coef0=0.0,\n",
      "    decision_function_shape='ovr', degree=3, gamma='scale', kernel='rbf',\n",
      "    max_iter=-1, probability=False, random_state=None, shrinking=True,\n",
      "    tol=0.001, verbose=False)\n",
      "[0 0 1 0 0 0 0 0 1 1 0 0 1 0 1 0 0 1 0 0 0 0 0 1 0 0 1 1 0 0 0 1 1 1 0 1 1\n",
      " 1 1 0 0 0 0 1 0 0 0 1 1 0 0 0 1 0 1 1 1 0 1 0 0 0 0 0 0 0 0 1 0 0 1 0 0 0\n",
      " 0 0 0 1 0 1 0 0 0 0 0 1 0 1 1 1 0 0 0 0 0 1 0 1 1 0 0 1 0 0 1 0 0 0 0 0 0\n",
      " 0 0 1 1 1 0 0 1 0 0 0 0 1 0 0 0 0 0 1 0 0 0 0 0 1 0 0 0 1 1 0 0 0 0 1 0 0\n",
      " 0 0 0 0 0 0 0 1 0 0 1 0 1 1 0 0 0 0 0 0 0 0 1 1 0 0 0 0 0 0 0]\n"
     ]
    }
   ],
   "source": [
    "from sklearn.svm import SVC\n",
    "classifier = SVC(kernel='rbf' , degree= 3)\n",
    "print(classifier)\n",
    "classifier.fit(X_train , Y_train)\n",
    "y_pred = classifier.predict(X_test)\n",
    "print(y_pred)"
   ]
  },
  {
   "cell_type": "code",
   "execution_count": 34,
   "metadata": {},
   "outputs": [
    {
     "data": {
      "text/plain": [
       "<sklearn.metrics._plot.confusion_matrix.ConfusionMatrixDisplay at 0x25cf89e75c8>"
      ]
     },
     "execution_count": 34,
     "metadata": {},
     "output_type": "execute_result"
    },
    {
     "data": {
      "image/png": "[encoded data removed]",
      "text/plain": [
       "<Figure size 432x288 with 2 Axes>"
      ]
     },
     "metadata": {
      "needs_background": "light"
     },
     "output_type": "display_data"
    }
   ],
   "source": [
    "plot_confusion_matrix(classifier , X_test , Y_test , display_labels=[\"Does not survived\" , \"Survived\"])"
   ]
  },
  {
   "cell_type": "code",
   "execution_count": 35,
   "metadata": {},
   "outputs": [
    {
     "name": "stdout",
     "output_type": "stream",
     "text": [
      "0.8715083798882681\n"
     ]
    }
   ],
   "source": [
    "from sklearn.metrics import accuracy_score\n",
    "score = accuracy_score(Y_test , y_pred)\n",
    "print(score)"
   ]
  },
  {
   "cell_type": "markdown",
   "metadata": {},
   "source": [
    "# K-NN"
   ]
  },
  {
   "cell_type": "code",
   "execution_count": 36,
   "metadata": {},
   "outputs": [
    {
     "name": "stdout",
     "output_type": "stream",
     "text": [
      "[0 0 1 0 0 0 0 0 1 1 0 1 1 0 1 0 1 1 0 0 0 0 0 1 0 0 1 1 0 0 0 1 1 1 0 1 1\n",
      " 1 1 0 0 1 1 1 0 0 0 1 1 0 0 0 1 0 1 1 0 0 1 0 0 0 0 1 1 0 0 1 0 0 1 0 0 0\n",
      " 1 0 0 1 0 1 0 0 0 0 0 1 0 1 1 1 0 0 0 0 0 1 0 1 1 0 0 1 0 0 1 0 0 0 0 0 0\n",
      " 0 0 1 1 1 0 1 1 0 0 0 1 1 1 0 0 0 0 1 0 0 1 0 0 1 0 0 0 1 1 0 0 0 0 1 0 0\n",
      " 1 0 0 0 0 0 0 1 0 0 1 0 1 1 0 0 0 0 0 0 0 0 1 1 1 0 0 0 0 0 0]\n"
     ]
    }
   ],
   "source": [
    "from sklearn.neighbors import KNeighborsClassifier\n",
    "knn = KNeighborsClassifier(n_neighbors = 5)\n",
    "knn.fit(X_train, Y_train)\n",
    "Y_pred = knn.predict(X_test)\n",
    "print(Y_pred)"
   ]
  },
  {
   "cell_type": "code",
   "execution_count": 37,
   "metadata": {},
   "outputs": [
    {
     "name": "stdout",
     "output_type": "stream",
     "text": [
      "0.8491620111731844\n"
     ]
    }
   ],
   "source": [
    "from sklearn.metrics import accuracy_score\n",
    "score = accuracy_score(Y_test , Y_pred)\n",
    "print(score)"
   ]
  },
  {
   "cell_type": "code",
   "execution_count": 90,
   "metadata": {},
   "outputs": [
    {
     "ename": "NameError",
     "evalue": "name 'dfte' is not defined",
     "output_type": "error",
     "traceback": [
      "\u001b[1;31m---------------------------------------------------------------------------\u001b[0m",
      "\u001b[1;31mNameError\u001b[0m                                 Traceback (most recent call last)",
      "\u001b[1;32m<ipython-input-90-cea818a34ab2>\u001b[0m in \u001b[0;36m<module>\u001b[1;34m\u001b[0m\n\u001b[0;32m      1\u001b[0m submision = pd.DataFrame({\n\u001b[1;32m----> 2\u001b[1;33m         \u001b[1;34m\"PassengerId\"\u001b[0m\u001b[1;33m:\u001b[0m \u001b[0mdfte\u001b[0m\u001b[1;33m[\u001b[0m\u001b[1;34m\"PassengerId\"\u001b[0m\u001b[1;33m]\u001b[0m\u001b[1;33m,\u001b[0m\u001b[1;33m\u001b[0m\u001b[1;33m\u001b[0m\u001b[0m\n\u001b[0m\u001b[0;32m      3\u001b[0m         \u001b[1;34m\"Survived\"\u001b[0m\u001b[1;33m:\u001b[0m \u001b[0my_pred\u001b[0m\u001b[1;33m\u001b[0m\u001b[1;33m\u001b[0m\u001b[0m\n\u001b[0;32m      4\u001b[0m     })\n\u001b[0;32m      5\u001b[0m \u001b[0msubmision\u001b[0m\u001b[1;33m.\u001b[0m\u001b[0mto_csv\u001b[0m\u001b[1;33m(\u001b[0m\u001b[1;34m'./submision.csv'\u001b[0m\u001b[1;33m,\u001b[0m \u001b[0mindex\u001b[0m\u001b[1;33m=\u001b[0m\u001b[1;32mFalse\u001b[0m\u001b[1;33m)\u001b[0m\u001b[1;33m\u001b[0m\u001b[1;33m\u001b[0m\u001b[0m\n",
      "\u001b[1;31mNameError\u001b[0m: name 'dfte' is not defined"
     ]
    }
   ],
   "source": [
    "submision = pd.DataFrame({\n",
    "        \"PassengerId\": dfte[\"PassengerId\"],\n",
    "        \"Survived\": y_pred\n",
    "    })\n",
    "submision.to_csv('./submision.csv', index=False)"
   ]
  },
  {
   "cell_type": "code",
   "execution_count": null,
   "metadata": {},
   "outputs": [],
   "source": []
  }
 ],
 "metadata": {
  "kernelspec": {
   "display_name": "Python 3",
   "language": "python",
   "name": "python3"
  },
  "language_info": {
   "codemirror_mode": {
    "name": "ipython",
    "version": 3
   },
   "file_extension": ".py",
   "mimetype": "text/x-python",
   "name": "python",
   "nbconvert_exporter": "python",
   "pygments_lexer": "ipython3",
   "version": "3.7.6"
  }
 },
 "nbformat": 4,
 "nbformat_minor": 4
}
